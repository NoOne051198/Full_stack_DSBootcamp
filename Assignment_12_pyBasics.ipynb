{
 "cells": [
  {
   "cell_type": "markdown",
   "id": "79cc05b2",
   "metadata": {},
   "source": [
    "# Assignment - 12 Solution"
   ]
  },
  {
   "cell_type": "markdown",
   "id": "3bf8cb5d",
   "metadata": {},
   "source": [
    "<font size=\"3\">__1. In what modes should the PdfFileReader() and PdfFileWriter() File objects will be opened?__ </font><br>\n",
    "\n",
    "__Ans:__ For PdfFileReader the file should be opened in read binary mode `('rb')` whereas for PdfFileWriter file objects should be opened in write binary mode `('wb')`."
   ]
  },
  {
   "cell_type": "markdown",
   "id": "f71de35a",
   "metadata": {},
   "source": [
    "<font size=\"3\">__2. From a PdfFileReader object, how do you get a Page object for page 5?__ </font><br>\n",
    "__Ans:__ We can get a Page object by using `getPage(page_number)` method in PdfFileReader class."
   ]
  },
  {
   "cell_type": "code",
   "execution_count": null,
   "id": "6e78ceb0",
   "metadata": {},
   "outputs": [],
   "source": [
    "# Example\n",
    "from PyPDF2 import PdfFileReader\n",
    "pdf_reader = PdfFileReader(file_path)\n",
    "for page in pdf_reader.getNumPages():\n",
    "    pdf_reader.getPage(page)"
   ]
  },
  {
   "cell_type": "markdown",
   "id": "4db44518",
   "metadata": {},
   "source": [
    "<font size=\"3\">__3. What PdfFileReader variable stores the number of pages in the PDF document?__ </font><br>\n",
    "__Ans:__  `getNumPages()` method of PdfFileReader class stores the no pages in a PDF document."
   ]
  },
  {
   "cell_type": "code",
   "execution_count": null,
   "id": "d747badd",
   "metadata": {},
   "outputs": [],
   "source": [
    "#Example \n",
    "from PyPDF2 import PdfFileReader\n",
    "pdf_reader = PdfFileReader(file_path)\n",
    "print(pdf_reader.getNumPages()) "
   ]
  },
  {
   "cell_type": "markdown",
   "id": "705447fd",
   "metadata": {},
   "source": [
    "<font size=\"3\">__4. If a PdfFileReader object’s PDF is encrypted with the password swordfish, what must you do before you can obtain Page objects from it?__ </font><br>\n",
    "__Ans:__ PdfFileReader class provides a attribute called `isEncrypted` to check whether a pdf is encrypted or not. the method returns true if a pdf is encrypted and vice versa.\n",
    "if pdf is encrypted use the `decrypt()` method provided by PdfFileReader class first then try to read the contents/pages of the pdf, else PyPDF2 will raise the following error PyPDF2.utils.PdfReadError: file has not been decrypted."
   ]
  },
  {
   "cell_type": "code",
   "execution_count": null,
   "id": "23887e24",
   "metadata": {},
   "outputs": [],
   "source": [
    "#Example:\n",
    "from PyPDF2 import PdfFileReader\n",
    "pdf_reader = PdfFileReader(file_path)\n",
    "if pdf_reader.isEncrypted: # to check whether the pdf is encrypted or not\n",
    "    pdf_reader.decrypt(\"swordfish\")\n",
    "for page in pdf_reader.pages:\n",
    "    print(page.extractText()) # to print the text data of a page from pdf"
   ]
  },
  {
   "cell_type": "markdown",
   "id": "14083946",
   "metadata": {},
   "source": [
    "<font size=\"3\">__5. What methods do you use to rotate a page?__ </font><br>\n",
    "__Ans:__ PyPDF2 Package provides 2 methods to rotate a page:\n",
    "\n",
    "`rotateClockWise()` -> For Clockwise rotation\n",
    "`rotateCounterClockWise()` -> For Counter Clockwise rotation\n",
    "The PyPDF2 package only allows you to rotate a page in increments of 90 degrees. You will receive an AssertionError otherwise."
   ]
  },
  {
   "cell_type": "markdown",
   "id": "71ba4068",
   "metadata": {},
   "source": [
    "<font size=\"3\">__6. What is the difference between a Run object and a Paragraph object?__ </font><br>\n",
    "__Ans:__ The structure of a document is represented by three different data types in python-Docx. At the highest level, a Document object represents the entire document. The Document object contains a list of Paragraph objects for the paragraphs in the document. (A new paragraph begins whenever the user presses ENTER or RETURN while typing in a Word document.) Each of these Paragraph objects contains a list of one or more Run objects.\n",
    "\n",
    "The text in a Word document is more than just a string. It has font, size, color, and other styling information associated with it. A style in Word is a collection of these attributes. A Run object is a contiguous run of text with the same style. A new Run object is needed whenever the text style changes."
   ]
  },
  {
   "cell_type": "markdown",
   "id": "aba23266",
   "metadata": {},
   "source": [
    "<font size=\"3\">__7. How do you obtain a list of Paragraph objects for a Document object that’s stored in a variable named doc?__ </font><br>"
   ]
  },
  {
   "cell_type": "code",
   "execution_count": null,
   "id": "8a189f22",
   "metadata": {},
   "outputs": [],
   "source": [
    "# Example \n",
    "from docx import Document\n",
    "doc = Document(\"sample_file.docx\") # Path of the Docx file\n",
    "print(doc.paragraphs) # Prints the list of Paragraph objects for a Document\n",
    "for paragraph in doc.paragraphs:\n",
    "    print(paragraph.text) # Prints the text in the paragraph"
   ]
  },
  {
   "cell_type": "markdown",
   "id": "305a40d0",
   "metadata": {},
   "source": [
    "<font size=\"3\">__8. What type of object has bold, underline, italic, strike, and outline variables?__ </font><br>\n",
    "\n",
    "__Ans:__ Run object has bold, underline, italic, strike, and outline variables. The text in a Word document is more than just a string. It has font, size, color, and other styling information associated with it.\n",
    "\n",
    "A style in Word is a collection of these attributes. A Run object is a contiguous run of text with the same style. A new Run object is needed whenever the text style changes."
   ]
  },
  {
   "cell_type": "markdown",
   "id": "967a7680",
   "metadata": {},
   "source": [
    "<font size=\"3\">__9. What is the difference between False, True, and None for the bold variable?__ </font><br>\n",
    "bold = True  # Style Set to Bold\n",
    "bold = False # Style Not Set to Bold\n",
    "bold = None # Style is Not Applicable"
   ]
  },
  {
   "cell_type": "markdown",
   "id": "f39d027a",
   "metadata": {},
   "source": [
    "<font size=\"3\">__10. How do you create a Document object for a new Word document?"
   ]
  },
  {
   "cell_type": "code",
   "execution_count": null,
   "id": "2760f62d",
   "metadata": {},
   "outputs": [],
   "source": [
    "# Example\n",
    "from docx import Document\n",
    "document = Document()\n",
    "document.add_paragraph(\"iNeuron Full Stack DataScience Course\")\n",
    "document.save('mydocument.docx')"
   ]
  },
  {
   "cell_type": "markdown",
   "id": "6b1df51a",
   "metadata": {},
   "source": [
    "<font size=\"3\">__11. How do you add a paragraph with the text 'Hello, there!' to a Document object stored in a variable named doc?__ </font><br>"
   ]
  },
  {
   "cell_type": "code",
   "execution_count": null,
   "id": "df22e1cf",
   "metadata": {},
   "outputs": [],
   "source": [
    "# Example Program\n",
    "from docx import Document\n",
    "doc = Document()\n",
    "doc.add_paragraph('Hello, there!')\n",
    "doc.save('hello.docx')"
   ]
  },
  {
   "cell_type": "markdown",
   "id": "f3e30275",
   "metadata": {},
   "source": [
    "<font size=\"3\">__12. What integers represent the levels of headings available in Word documents?__ </font><br>\n",
    "__Ans:__ The levels for a heading in a word document can be specified by using the level attribute inside the add_heading method. There are a total of 5 levels statring for 0 t0 4. where level 0 makes a headline with the horizontal line below the text, whereas the heading level 1 is the main heading. Similarly, the other headings are sub-heading with their's font-sizes in decreasing order."
   ]
  },
  {
   "cell_type": "code",
   "execution_count": null,
   "id": "c17d4a56",
   "metadata": {},
   "outputs": [],
   "source": []
  }
 ],
 "metadata": {
  "kernelspec": {
   "display_name": "Python 3 (ipykernel)",
   "language": "python",
   "name": "python3"
  },
  "language_info": {
   "codemirror_mode": {
    "name": "ipython",
    "version": 3
   },
   "file_extension": ".py",
   "mimetype": "text/x-python",
   "name": "python",
   "nbconvert_exporter": "python",
   "pygments_lexer": "ipython3",
   "version": "3.10.9"
  }
 },
 "nbformat": 4,
 "nbformat_minor": 5
}
