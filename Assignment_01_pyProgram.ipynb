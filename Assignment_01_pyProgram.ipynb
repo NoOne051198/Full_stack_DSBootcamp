{
 "cells": [
  {
   "cell_type": "markdown",
   "id": "b72b143d",
   "metadata": {},
   "source": [
    "# Assignment - 01 Solution"
   ]
  },
  {
   "cell_type": "markdown",
   "id": "515453dd",
   "metadata": {},
   "source": [
    "<font size=\"3\">__1. Write a Python program to print 'Hello Python'?__ </font><br>"
   ]
  },
  {
   "cell_type": "code",
   "execution_count": 2,
   "id": "3f2ac318",
   "metadata": {},
   "outputs": [
    {
     "name": "stdout",
     "output_type": "stream",
     "text": [
      "Hello Python\n"
     ]
    }
   ],
   "source": [
    "# Programme to write Hello Python\n",
    "print('Hello Python')"
   ]
  },
  {
   "cell_type": "markdown",
   "id": "3bc2d298",
   "metadata": {},
   "source": [
    "<font size=\"3\">__2. Write a Python program to do arithmetical operations addition and division.?__ </font><br>"
   ]
  },
  {
   "cell_type": "code",
   "execution_count": 8,
   "id": "3f5b3820",
   "metadata": {},
   "outputs": [
    {
     "name": "stdout",
     "output_type": "stream",
     "text": [
      "Select the Arithmetic operation: \n",
      "\n",
      "1.Addition(+)\n",
      "2.Subtraction(-)\n",
      "3.Multiplication(*)\n",
      "4.Division(/)\n",
      "5.Stop(0)\n",
      "\n",
      "Enter a Arithmetic Operation :  +\n",
      "\n",
      " Enter first Number : 4\n",
      "\n",
      " Enter second Number : 8\n",
      "4.0 + 8.0 = 12.0\n",
      "\n",
      "Enter a Arithmetic Operation :  -\n",
      "\n",
      " Enter first Number : 8\n",
      "\n",
      " Enter second Number : 7\n",
      "8.0 - 7.0 = 1.0\n",
      "\n",
      "Enter a Arithmetic Operation :  *\n",
      "\n",
      " Enter first Number : 4\n",
      "\n",
      " Enter second Number : 8\n",
      "4.0 * 8.0 = 32.0\n",
      "\n",
      "Enter a Arithmetic Operation :  /\n",
      "\n",
      " Enter first Number : 8\n",
      "\n",
      " Enter second Number : 2\n",
      "8.0 / 2.0 = 4.0\n",
      "\n",
      "Enter a Arithmetic Operation :  0\n",
      "program Stopped Succesfully \n"
     ]
    }
   ],
   "source": [
    "# Program for perform different Arithmetic operations\n",
    "import operator\n",
    "\n",
    "operators = {\"+\": operator.add, \"-\": operator.sub, \"*\": operator.mul, \"/\": operator.truediv }\n",
    "\n",
    "print('''Select the Arithmetic operation: \\n\n",
    "1.Addition(+)\n",
    "2.Subtraction(-)\n",
    "3.Multiplication(*)\n",
    "4.Division(/)\n",
    "5.Stop(0)\\n''')\n",
    "\n",
    "\n",
    "while True:\n",
    "    opt = input(\"Enter a Arithmetic Operation :  \")\n",
    "    if opt == '0':\n",
    "        print(\"program Stopped Succesfully \")\n",
    "        break\n",
    "    elif opt not in ['+','-','*','/']:\n",
    "        print('Please enter a valida operator ')\n",
    "    else:\n",
    "        num_1 = float(input('\\n Enter first Number : '))\n",
    "        num_2 = float(input('\\n Enter second Number : '))\n",
    "        print('{} {} {} = {}\\n'.format(num_1,opt,num_2,operators[opt](num_1,num_2)))"
   ]
  },
  {
   "cell_type": "markdown",
   "id": "20360dab",
   "metadata": {},
   "source": [
    "<font size=\"3\">__3. Write a Python program to find the area of a triangle?__ </font><br>"
   ]
  },
  {
   "cell_type": "code",
   "execution_count": 4,
   "id": "57e8b2f4",
   "metadata": {},
   "outputs": [
    {
     "name": "stdout",
     "output_type": "stream",
     "text": [
      "Enter the base of the triangle : 4\n",
      "Enter the height of the triangle : 5\n",
      "\n",
      "Area of the triangle is :  10.0\n"
     ]
    }
   ],
   "source": [
    "# Program to find area of the triangle\n",
    "base = float(input(\"Enter the base of the triangle : \"))\n",
    "height = float(input(\"Enter the height of the triangle : \"))\n",
    "area = 0.5*base*height\n",
    "print(\"\\nArea of the triangle is : \", area)"
   ]
  },
  {
   "cell_type": "markdown",
   "id": "ea067843",
   "metadata": {},
   "source": [
    "<font size=\"3\">__4. Write a Python program to swap two variables?__ </font><br>"
   ]
  },
  {
   "cell_type": "code",
   "execution_count": 5,
   "id": "a22605b1",
   "metadata": {},
   "outputs": [
    {
     "name": "stdout",
     "output_type": "stream",
     "text": [
      "Enter first variable value : 4\n",
      "Enter second variable value : 8\n",
      "\n",
      "value of first variable after swaping is : 8\n",
      "value of second variable after swaping is : 4\n"
     ]
    }
   ],
   "source": [
    "# Programme to swap two variables\n",
    "var_1 = input(\"Enter first variable value : \")\n",
    "var_2 = input(\"Enter second variable value : \")\n",
    "temp = var_1\n",
    "var_1 = var_2\n",
    "var_2 = temp\n",
    "print(f\"\\nvalue of first variable after swaping is : {var_1}\")\n",
    "print(f\"value of second variable after swaping is : {var_2}\")"
   ]
  },
  {
   "cell_type": "markdown",
   "id": "90c7c589",
   "metadata": {},
   "source": [
    "<font size=\"3\">__5. Write a Python program to generate a random number?__ </font><br>"
   ]
  },
  {
   "cell_type": "code",
   "execution_count": 7,
   "id": "9846a50e",
   "metadata": {},
   "outputs": [
    {
     "name": "stdout",
     "output_type": "stream",
     "text": [
      "Random number :  69056\n"
     ]
    }
   ],
   "source": [
    "# Programme to generate a random number\n",
    "from random import randint\n",
    "print('Random number : ',randint(0,100000))"
   ]
  },
  {
   "cell_type": "code",
   "execution_count": null,
   "id": "9259dde8",
   "metadata": {},
   "outputs": [],
   "source": []
  }
 ],
 "metadata": {
  "kernelspec": {
   "display_name": "Python 3 (ipykernel)",
   "language": "python",
   "name": "python3"
  },
  "language_info": {
   "codemirror_mode": {
    "name": "ipython",
    "version": 3
   },
   "file_extension": ".py",
   "mimetype": "text/x-python",
   "name": "python",
   "nbconvert_exporter": "python",
   "pygments_lexer": "ipython3",
   "version": "3.10.9"
  }
 },
 "nbformat": 4,
 "nbformat_minor": 5
}
