{
 "cells": [
  {
   "cell_type": "markdown",
   "id": "cb5bf684",
   "metadata": {},
   "source": [
    "# Assignment - 02 Solution"
   ]
  },
  {
   "cell_type": "markdown",
   "id": "9c7b0b9c",
   "metadata": {},
   "source": [
    "<font size=\"3\">__1. Write a Python program to convert kilometers to miles?__ </font><br>"
   ]
  },
  {
   "cell_type": "code",
   "execution_count": 19,
   "id": "43e20b89",
   "metadata": {},
   "outputs": [
    {
     "name": "stdout",
     "output_type": "stream",
     "text": [
      "Enter the kilometers : 78\n",
      "\n",
      " 78.0 kilometers is equal to 48.4614 miles.\n"
     ]
    }
   ],
   "source": [
    "# Programe to convert kilometers to miles: (1 kilometer = 0.62137 mile)\n",
    "def kilometer_2_miles():\n",
    "    km = float(input(\"Enter the kilometers : \"))\n",
    "    print(\"\\n {} kilometers is equal to {} miles.\".format(km, km * 0.6213))\n",
    "\n",
    "\n",
    "kilometer_2_miles()"
   ]
  },
  {
   "cell_type": "markdown",
   "id": "f2c67009",
   "metadata": {},
   "source": [
    "<font size=\"3\">__2. Write a Python program to convert Celsius to Fahrenheit?__ </font><br>"
   ]
  },
  {
   "cell_type": "code",
   "execution_count": 30,
   "id": "7f5331a1",
   "metadata": {},
   "outputs": [
    {
     "name": "stdout",
     "output_type": "stream",
     "text": [
      "Enter the Celsius : 0\n",
      "\n",
      " 0.0 Celsius is equal to 32.0 Fahreheit.\n"
     ]
    }
   ],
   "source": [
    "# Program to convert Celsius to Fahrenheit\n",
    "def Celsius_2_fahrenheit():\n",
    "    cel = float(input(\"Enter the Celsius : \"))\n",
    "    print(\"\\n {} Celsius is equal to {} Fahreheit.\".format(cel, cel * 1.8 + 32))\n",
    "\n",
    "Celsius_2_fahrenheit()"
   ]
  },
  {
   "cell_type": "markdown",
   "id": "f79aac3b",
   "metadata": {},
   "source": [
    "<font size=\"3\">__3. Write a Python program to display calendar?__ </font><br>"
   ]
  },
  {
   "cell_type": "code",
   "execution_count": 10,
   "id": "83a0b32e",
   "metadata": {},
   "outputs": [
    {
     "name": "stdout",
     "output_type": "stream",
     "text": [
      "Enter year : 2023\n",
      "Enter month : 5\n",
      "      May 2023\n",
      "Mo Tu We Th Fr Sa Su\n",
      " 1  2  3  4  5  6  7\n",
      " 8  9 10 11 12 13 14\n",
      "15 16 17 18 19 20 21\n",
      "22 23 24 25 26 27 28\n",
      "29 30 31\n",
      "\n"
     ]
    }
   ],
   "source": [
    "# Program to display calender of the given year and month; with calender module\n",
    "import calendar\n",
    "import pyinputplus as pyip\n",
    "\n",
    "yy = pyip.inputInt(\"Enter year : \",min = 1990, max = 3000, limit = 3)\n",
    "mm = pyip.inputInt(\"Enter month : \",min = 1, max = 12, limit = 3)\n",
    "\n",
    "print(calendar.month(yy,mm))  # Display the calender"
   ]
  },
  {
   "cell_type": "markdown",
   "id": "ac25e5ef",
   "metadata": {},
   "source": [
    "<font size=\"3\">__4. Write a Python program to solve quadratic equation?__ </font><br>"
   ]
  },
  {
   "cell_type": "code",
   "execution_count": 35,
   "id": "fbd33a5f",
   "metadata": {},
   "outputs": [
    {
     "name": "stdout",
     "output_type": "stream",
     "text": [
      "aX^2 + bX + c = 0; According to this equation enter value of a, b and c\n",
      "Enter a value: 4\n",
      "Enter b value: 5\n",
      "Enter c value: 6\n",
      "Roots are Imaginary :  (-0.625-1.0532687216470449j) (-0.625+1.0532687216470449j)\n"
     ]
    }
   ],
   "source": [
    "# Solve Quadaratic equation\n",
    "import cmath\n",
    "import math\n",
    "\n",
    "def quad_eq_sol(a,b,c):\n",
    "    \n",
    "    d = b*b-4*a*c\n",
    "    \n",
    "    if d == 0:\n",
    "        r1 = -b/2*a\n",
    "        r2 = -b/2*a\n",
    "        print(\"Roots are Real : \",r1,r2)\n",
    "    elif d > 0:\n",
    "        r1 = (-b-math.sqrt(d))/(2 * a)\n",
    "        r2 = (-b+math.sqrt(d))/(2 * a)\n",
    "        print(\"Roots are Real and different : \",r1,r2)\n",
    "    else:\n",
    "        r1 = (-b-cmath.sqrt(d))/(2 * a)\n",
    "        r2 = (-b+cmath.sqrt(d))/(2 * a)\n",
    "        print(\"Roots are Imaginary : \",r1,r2)\n",
    "\n",
    "print(\"aX^2 + bX + c = 0; According to this equation enter value of a, b and c\")\n",
    "a = int(input('Enter a value: '))\n",
    "b = int(input('Enter b value: '))\n",
    "c = int(input('Enter c value: '))\n",
    "\n",
    "quad_eq_sol(a,b,c)"
   ]
  },
  {
   "cell_type": "markdown",
   "id": "bb0d3fe2",
   "metadata": {},
   "source": [
    "<font size=\"3\">__5. Write a Python program to swap two variables without temp variable?__ </font><br>"
   ]
  },
  {
   "cell_type": "code",
   "execution_count": 16,
   "id": "9b393b35",
   "metadata": {},
   "outputs": [
    {
     "name": "stdout",
     "output_type": "stream",
     "text": [
      "Pleast enter first number: f\n",
      "Pleast enter second number: s\n",
      "\n",
      "The value of first number, after swaping : s\n",
      "The value of second number, after swaping : f\n"
     ]
    }
   ],
   "source": [
    "# swap two variable without temp variable\n",
    "num_1 = input(\"Pleast enter first number: \")\n",
    "num_2 = input(\"Pleast enter second number: \")\n",
    "\n",
    "num_1,num_2 = num_2,num_1  # swap variables \n",
    "\n",
    "print(\"\\nThe value of first number, after swaping :\",num_1)\n",
    "print(\"The value of second number, after swaping :\",num_2)\n"
   ]
  },
  {
   "cell_type": "code",
   "execution_count": null,
   "id": "d4640c47",
   "metadata": {},
   "outputs": [],
   "source": []
  }
 ],
 "metadata": {
  "kernelspec": {
   "display_name": "Python 3 (ipykernel)",
   "language": "python",
   "name": "python3"
  },
  "language_info": {
   "codemirror_mode": {
    "name": "ipython",
    "version": 3
   },
   "file_extension": ".py",
   "mimetype": "text/x-python",
   "name": "python",
   "nbconvert_exporter": "python",
   "pygments_lexer": "ipython3",
   "version": "3.10.9"
  }
 },
 "nbformat": 4,
 "nbformat_minor": 5
}
