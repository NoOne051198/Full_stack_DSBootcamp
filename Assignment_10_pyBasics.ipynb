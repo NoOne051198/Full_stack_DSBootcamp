{
 "cells": [
  {
   "cell_type": "markdown",
   "id": "5ddf84a2",
   "metadata": {},
   "source": [
    "# Assignment - 10 Solution"
   ]
  },
  {
   "cell_type": "markdown",
   "id": "1f164d2a",
   "metadata": {},
   "source": [
    "<font size=\"3\">__1. How do you distinguish between shutil.copy() and shutil.copytree()?__ </font><br>\n",
    "\n",
    "__Ans:__ `shutil.copy()` method is used to copy the contents of a `file from one file to another file/folder`, it primary takes two arguments src and dest, __source__ represents the file to be copied where as __destination__ refers to the file/folder to where the src data should be copied, if dest is a folder name the src with exact name will be copied to the dest folder, if its a file then the contents of src will be copied to dest where dest retains it name.\n",
    "\n",
    "`shutil.copytree()` function is used to copy the entire contents of a `folder to other folder`. it also takes two arguments src & dest, it copies all the content recursively and stores it in dest. the important catch here is __destination must not exist prior to this__ and it will be created during the copy operation_."
   ]
  },
  {
   "cell_type": "markdown",
   "id": "6de7c4c9",
   "metadata": {},
   "source": [
    "<font size=\"3\">__2. What function is used to rename files??__ </font><br>\n",
    "\n",
    "__Ans:__ ` os.rename()` function is used to rename files or directories using a python program, this function takes two arguments source and destination, sourec represents the name file/directory which we want to rename, whereas destination represents the new name of the file/directory."
   ]
  },
  {
   "cell_type": "markdown",
   "id": "9815293c",
   "metadata": {},
   "source": [
    "<font size=\"3\">__3. What is the difference between the delete functions in the send2trash and shutil modules?__ </font><br>\n",
    "\n",
    "__Ans:__ `Shutil` module provides a funciton named as `shutil.rmtree()` which deletes a directory and all its contents. The other functions with similar functionality are os.remove() -> removes a file, os.rmdir() removes a empty directory. The problem with these functions is once a file is deleted. it will be lost permanently, if a file is deleted accidentally using these methods there is no way we can recover the deleted file\n",
    "\n",
    "Where as `send2trash` module provides a function called `send2trash.send2trash()` to delete a file/directory. these methods moves the files/directories to trash folder instead of permanently deleting them. hence if a file/folder is deleted accidentally it can be still recovered from trash folder, if is deleted using the send2trash.send2trash() function. send2trash is not included with python standard libary like os & shutil modules. it needs to be installed explicitly using the command `!pip install send2trash`"
   ]
  },
  {
   "cell_type": "markdown",
   "id": "6dc385fe",
   "metadata": {},
   "source": [
    "<font size=\"3\">__4. ZipFile objects have a close() method just like File objects’ close() method. What ZipFile method is equivalent to File objects’ open() method?__ </font><br>\n",
    "\n",
    "__Ans:__ `ZipFile` Module provides a method called as `zipfile.ZipFile()` to read and write to zipFiles. it takes arugments like filename and mode etc `zipfile.ZipFile('filename', mode = 'r')`"
   ]
  },
  {
   "cell_type": "markdown",
   "id": "f20c35b8",
   "metadata": {},
   "source": [
    "<font size=\"3\">__5. Create a programme that searches a folder tree for files with a certain file extension (such as .pdf or .jpg). Copy these files from whatever location they are in to a new folder__ </font><br>"
   ]
  },
  {
   "cell_type": "code",
   "execution_count": 1,
   "id": "8f094cb6",
   "metadata": {},
   "outputs": [],
   "source": [
    "# program that search a folder tree for files with certain file extensions and copy thise files to new folder\n",
    "import os\n",
    "import shutil\n",
    "\n",
    "def search_and_copy(src,dest,extns):\n",
    "    src = os.path.abspath(src)\n",
    "    dest = os.path.abspath(dest)\n",
    "    for foldername, subfolder, filenames in os.walk(src):\n",
    "        print(f'Folder Name ➞ {foldername}',end='\\n\\n')\n",
    "        print(f'Sub Folders ➞ {subfolder}',end='\\n\\n')\n",
    "        print(f'Files ➞ {filenames}',end='\\n\\n')\n",
    "        for filename in filenames:\n",
    "            fileName,extension = os.path.splitext(filename)\n",
    "            if extension in extns:\n",
    "                targetFile = foldername+os.path.sep+fileName+extension\n",
    "                shutil.copy(targetFile, dest)\n",
    "        print(f'Files copied successfully from {src} to {dest}')\n",
    "    \n",
    "extensions = ['.pdf','.jpg','.ipynb']\n",
    "source = 'Dummy Source'\n",
    "destination = 'Dummy Destination'\n",
    "search_and_copy(source, destination, extensions)"
   ]
  },
  {
   "cell_type": "code",
   "execution_count": null,
   "id": "0819d737",
   "metadata": {},
   "outputs": [],
   "source": []
  }
 ],
 "metadata": {
  "kernelspec": {
   "display_name": "Python 3 (ipykernel)",
   "language": "python",
   "name": "python3"
  },
  "language_info": {
   "codemirror_mode": {
    "name": "ipython",
    "version": 3
   },
   "file_extension": ".py",
   "mimetype": "text/x-python",
   "name": "python",
   "nbconvert_exporter": "python",
   "pygments_lexer": "ipython3",
   "version": "3.10.9"
  }
 },
 "nbformat": 4,
 "nbformat_minor": 5
}
