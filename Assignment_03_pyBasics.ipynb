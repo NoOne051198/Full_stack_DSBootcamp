{
 "cells": [
  {
   "cell_type": "markdown",
   "id": "a40d0d29",
   "metadata": {},
   "source": [
    "# Assignment - 03 Solution"
   ]
  },
  {
   "cell_type": "markdown",
   "id": "7d74f9d2",
   "metadata": {},
   "source": [
    "<font size=\"3\">__1. Why are functions advantageous to have in your programs?__ </font><br>\n",
    "\n",
    "\n",
    "__Ans:__ With the help of functions, we can avoid the rewritting the same code or logic again and again in the program. In a program, we can call functions anywhere and also call functions multiple times. it makes python program easily trackable. "
   ]
  },
  {
   "cell_type": "markdown",
   "id": "30d81588",
   "metadata": {},
   "source": [
    "<font size=\"3\">__2. When does the code in a function run: when it's specified or when it's called?__ </font><br>\n",
    "\n",
    "\n",
    "__Ans:__ The code of the function executes, when the fuction are called."
   ]
  },
  {
   "cell_type": "code",
   "execution_count": 5,
   "id": "94a9ac1c",
   "metadata": {},
   "outputs": [
    {
     "name": "stdout",
     "output_type": "stream",
     "text": [
      "5  X  1  =  5\n",
      "5  X  2  =  10\n",
      "5  X  3  =  15\n",
      "5  X  4  =  20\n",
      "5  X  5  =  25\n",
      "5  X  6  =  30\n",
      "5  X  7  =  35\n",
      "5  X  8  =  40\n",
      "5  X  9  =  45\n",
      "5  X  10  =  50\n"
     ]
    }
   ],
   "source": [
    "def print_table(n):\n",
    "    for i in range(1,11):\n",
    "        print(n,\" X \",i,\" = \",n*i) # function to print the table is specified\n",
    "\n",
    "        \n",
    "print_table(5)  # call the function to execute\n",
    "    "
   ]
  },
  {
   "cell_type": "markdown",
   "id": "f6e60d79",
   "metadata": {},
   "source": [
    "<font size=\"3\">__3. What statement creates a function?__ </font><br>\n",
    "\n",
    "\n",
    "__Ans:__ `def` keyword defined the function <br>\n",
    "__Syntax of function:__ <br>\n",
    "`def function_name(parameters):` <br>\n",
    "    `\"\"\" doc string\"\"\"`<br>\n",
    "    <br>\n",
    "    `...function body...` <br>\n",
    "    <br>\n",
    "    `return value`"
   ]
  },
  {
   "cell_type": "markdown",
   "id": "6248bbc8",
   "metadata": {},
   "source": [
    "<font size=\"3\">__4. What is the difference between a `function` and a `function call`?__ </font><br>\n",
    "\n",
    "\n",
    "__Ans:__ Write the code to achieve the particular result is called the `function`. When we use this function to complete the desired task in anywhere in the program is called `function call` "
   ]
  },
  {
   "cell_type": "code",
   "execution_count": 6,
   "id": "e3971ee3",
   "metadata": {},
   "outputs": [
    {
     "name": "stdout",
     "output_type": "stream",
     "text": [
      "5  X  1  =  5\n",
      "5  X  2  =  10\n",
      "5  X  3  =  15\n",
      "5  X  4  =  20\n",
      "5  X  5  =  25\n",
      "5  X  6  =  30\n",
      "5  X  7  =  35\n",
      "5  X  8  =  40\n",
      "5  X  9  =  45\n",
      "5  X  10  =  50\n"
     ]
    }
   ],
   "source": [
    "def print_table(n):\n",
    "    for i in range(1,11):\n",
    "        print(n,\" X \",i,\" = \",n*i) # Definition of the function\n",
    "\n",
    "        \n",
    "print_table(5) # call the function to execute\n"
   ]
  },
  {
   "cell_type": "markdown",
   "id": "3cbd7a8f",
   "metadata": {},
   "source": [
    "<font size=\"3\">__5. How many global scopes are there in a Python program? How many local scopes?__ </font><br>\n",
    "\n",
    "\n",
    "__Ans:__ There's only `one global` Python scope per program execution. This scope remains in existence until the program terminates and all its names are forgotten. <br>\n",
    "A `local scope` is created when the function starts executing and is destroyed when the execution is completed.\n",
    "\n"
   ]
  },
  {
   "cell_type": "markdown",
   "id": "dbe40390",
   "metadata": {},
   "source": [
    "<font size=\"3\">__6. What happens to variables in a local scope when the function call returns?__ </font><br>\n",
    "\n",
    "__Ans:__ When the function return the value, local scope is destroyed and all the variable in it are forgotten."
   ]
  },
  {
   "cell_type": "markdown",
   "id": "c3b271a0",
   "metadata": {},
   "source": [
    "<font size=\"3\">__7. What is the concept of a return value? Is it possible to have a return value in an expression?__ </font><br>\n",
    "\n",
    "\n",
    "__Ans:__ A return value is the value that the function call evaluates to. it's possibel to have a return value in an expression."
   ]
  },
  {
   "cell_type": "code",
   "execution_count": 7,
   "id": "50b5e908",
   "metadata": {},
   "outputs": [
    {
     "data": {
      "text/plain": [
       "66"
      ]
     },
     "execution_count": 7,
     "metadata": {},
     "output_type": "execute_result"
    }
   ],
   "source": [
    "def return_22():\n",
    "    return 22  # A return statement returns the value\n",
    "\n",
    "return_22() + 2 * return_22()  # used in the expression"
   ]
  },
  {
   "cell_type": "markdown",
   "id": "4c1c55aa",
   "metadata": {},
   "source": [
    "<font size=\"3\">__8. If a function does not have a return statement, what is the return value of a call to that function?__ </font><br>\n",
    "\n",
    "\n",
    "__Ans:__ If a function does not have a return statement then function call return the `NoneType`."
   ]
  },
  {
   "cell_type": "markdown",
   "id": "0f3abd41",
   "metadata": {},
   "source": [
    "<font size=\"3\">__9. How do you make a function variable refer to the global variable?__ </font><br>\n",
    "\n",
    "__Ans:__ Normally, when we create a variable inside the function is local.To create a global variable inside a function, we can use the `global` keyword."
   ]
  },
  {
   "cell_type": "markdown",
   "id": "c9afb57a",
   "metadata": {},
   "source": [
    "<font size=\"3\">__10. What is the data type of None?__ </font><br>\n",
    "\n",
    "__Ans:__ The data type of None is `NoneType`"
   ]
  },
  {
   "cell_type": "markdown",
   "id": "fbe6d7ed",
   "metadata": {},
   "source": [
    "<font size=\"3\">__11. What does the sentence `import areallyourpetsnamederic` do?__ </font><br>\n",
    "\n",
    "__Ans:__ This statement `import` the module named `areallyourpetsnamederic`"
   ]
  },
  {
   "cell_type": "markdown",
   "id": "80c5ce81",
   "metadata": {},
   "source": [
    "<font size=\"3\">__12. If you had a bacon() feature in a spam module, what would you call it after importing spam?__ </font><br>\n",
    "\n",
    "\n",
    "__Ans:__ This feature can be called with `spam.bacon()`"
   ]
  },
  {
   "cell_type": "markdown",
   "id": "27bb5ca4",
   "metadata": {},
   "source": [
    "<font size=\"3\">__13. What can you do to save a programm from crashing if it encounters an error?__ </font><br>\n",
    "\n",
    "\n",
    "__Ans:__ Use `Try` and `Except` clause Where the code might cause error."
   ]
  },
  {
   "cell_type": "markdown",
   "id": "43a6f705",
   "metadata": {},
   "source": [
    "<font size=\"3\">__14. What is the purpose of the try clause? What is the purpose of the except clause?__ </font><br>\n",
    "\n",
    "\n",
    "__Ans:__ The piece of code might cause error, put it to the `try` clause. If this piece of code Throw an error then `except` clause execute automatically."
   ]
  },
  {
   "cell_type": "code",
   "execution_count": 8,
   "id": "b59a074b",
   "metadata": {},
   "outputs": [
    {
     "name": "stdout",
     "output_type": "stream",
     "text": [
      "An exception occurred\n"
     ]
    }
   ],
   "source": [
    "try:\n",
    "    print(a)  # not assign the value of a earlier\n",
    "except:\n",
    "    print(\"An exception occurred\")"
   ]
  },
  {
   "cell_type": "code",
   "execution_count": null,
   "id": "dbc538d9",
   "metadata": {},
   "outputs": [],
   "source": []
  }
 ],
 "metadata": {
  "kernelspec": {
   "display_name": "Python 3 (ipykernel)",
   "language": "python",
   "name": "python3"
  },
  "language_info": {
   "codemirror_mode": {
    "name": "ipython",
    "version": 3
   },
   "file_extension": ".py",
   "mimetype": "text/x-python",
   "name": "python",
   "nbconvert_exporter": "python",
   "pygments_lexer": "ipython3",
   "version": "3.10.9"
  }
 },
 "nbformat": 4,
 "nbformat_minor": 5
}
