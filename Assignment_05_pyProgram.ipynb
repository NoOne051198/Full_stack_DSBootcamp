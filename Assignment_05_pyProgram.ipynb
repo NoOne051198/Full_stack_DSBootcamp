{
 "cells": [
  {
   "cell_type": "markdown",
   "id": "8d32e6e6",
   "metadata": {},
   "source": [
    "# Assignment - 05 Solution"
   ]
  },
  {
   "cell_type": "markdown",
   "id": "45be0e70",
   "metadata": {},
   "source": [
    "<font size=\"3\">__1. Write a Python Program to Find LCM?__ </font><br>"
   ]
  },
  {
   "cell_type": "code",
   "execution_count": 26,
   "id": "078d5bc6",
   "metadata": {},
   "outputs": [
    {
     "name": "stdout",
     "output_type": "stream",
     "text": [
      "108 is the LCM of numbers : (9, 27, 36)\n"
     ]
    }
   ],
   "source": [
    "# Python Program to Find LCM\n",
    "import math\n",
    "def compute_lcm(*args):\n",
    "    \n",
    "    greatest = max(args)\n",
    "    \n",
    "    for i in range(greatest,math.prod(args)+1):\n",
    "        flag = False\n",
    "        for arg in args:\n",
    "            if i % arg != 0:\n",
    "                break\n",
    "        else:        \n",
    "            flag = True     # if for loop execute without break then this code will excecute\n",
    "        \n",
    "        \n",
    "        if flag:\n",
    "            print(\"{} is the LCM of numbers : {}\".format(i,args))\n",
    "            break\n",
    "            \n",
    "compute_lcm(9,27,36)\n",
    "        "
   ]
  },
  {
   "cell_type": "markdown",
   "id": "f1b0c9d4",
   "metadata": {},
   "source": [
    "<font size=\"3\">__2. Write a Python Program to Find HCF?__ </font><br>"
   ]
  },
  {
   "cell_type": "code",
   "execution_count": 27,
   "id": "01ed7e10",
   "metadata": {},
   "outputs": [
    {
     "name": "stdout",
     "output_type": "stream",
     "text": [
      "3 is the HCF of numbers : (9, 27, 3)\n"
     ]
    }
   ],
   "source": [
    "# python program to find HCF\n",
    "def compute_hcf(*args):\n",
    "    \n",
    "    smallest = min(args)\n",
    "    \n",
    "    for i in range(smallest, 1, -1):\n",
    "        flag = False\n",
    "        for arg in args:\n",
    "            if arg % i != 0:\n",
    "                break\n",
    "        else:        \n",
    "            flag = True     # if for loop execute without break then this code will excecute\n",
    "        \n",
    "        \n",
    "        if flag:\n",
    "            print(\"{} is the HCF of numbers : {}\".format(i,args))\n",
    "            break\n",
    "            \n",
    "compute_hcf(9,27,3)           \n",
    "\n",
    "            "
   ]
  },
  {
   "cell_type": "markdown",
   "id": "df87bf48",
   "metadata": {},
   "source": [
    "<font size=\"3\">__3. Write a Python Program to Convert Decimal to Binary, Octal and Hexadecimal?__ </font><br>"
   ]
  },
  {
   "cell_type": "code",
   "execution_count": 29,
   "id": "c74bc503",
   "metadata": {},
   "outputs": [
    {
     "name": "stdout",
     "output_type": "stream",
     "text": [
      "Enter a Number : 78\n",
      "\n",
      "Binary conversion of this number :  1001110\n",
      "Octal conversion of this number :  116\n",
      "Hexadecimal conversion of this number :  4e\n"
     ]
    }
   ],
   "source": [
    "# Decimal to binary, octal and hexadecimal\n",
    "import pyinputplus as pyip\n",
    "def Decimal_2_other():\n",
    "    num = pyip.inputInt(\"Enter a Number : \", min = 0)\n",
    "    \n",
    "    print(\"\\nBinary conversion of this number : \", bin(num)[2:])\n",
    "    print(\"Octal conversion of this number : \", oct(num)[2:])\n",
    "    print(\"Hexadecimal conversion of this number : \", hex(num)[2:])\n",
    "    \n",
    "Decimal_2_other()"
   ]
  },
  {
   "cell_type": "markdown",
   "id": "08637ddf",
   "metadata": {},
   "source": [
    "<font size=\"3\">__4. Write a Python Program To Find ASCII value of a character?__ </font><br>"
   ]
  },
  {
   "cell_type": "code",
   "execution_count": 21,
   "id": "79176f3e",
   "metadata": {},
   "outputs": [
    {
     "name": "stdout",
     "output_type": "stream",
     "text": [
      "Enter a Character : j\n",
      "The ASCII value of 'j' is 106\n"
     ]
    }
   ],
   "source": [
    "# ASCII value of character\n",
    "def ascii_val():\n",
    "    a = input(\"Enter a Character : \")\n",
    "    print(\"The ASCII value of '\"+ a +\"' is\",ord(a))\n",
    "ascii_val()"
   ]
  },
  {
   "cell_type": "markdown",
   "id": "b26cf466",
   "metadata": {},
   "source": [
    "<font size=\"3\">__5. Write a Python Program to Make a Simple Calculator with 4 basic mathematical operations?__ </font><br>"
   ]
  },
  {
   "cell_type": "code",
   "execution_count": 23,
   "id": "bb73c0b5",
   "metadata": {},
   "outputs": [
    {
     "name": "stdout",
     "output_type": "stream",
     "text": [
      "Select the Arithmetic operation: \n",
      "\n",
      "1.Addition(+)\n",
      "2.Subtraction(-)\n",
      "3.Multiplication(*)\n",
      "4.Division(/)\n",
      "5.Stop(0)\n",
      "\n",
      "Enter a Arithmetic Operation :  +\n",
      "\n",
      " Enter first Number : 2\n",
      "\n",
      " Enter second Number : 3\n",
      "2.0 + 3.0 = 5.0\n",
      "\n",
      "Enter a Arithmetic Operation :  -\n",
      "\n",
      " Enter first Number : 7\n",
      "\n",
      " Enter second Number : 2\n",
      "7.0 - 2.0 = 5.0\n",
      "\n",
      "Enter a Arithmetic Operation :  7\n",
      "Please enter a valida operator \n",
      "Enter a Arithmetic Operation :  *\n",
      "\n",
      " Enter first Number : 5\n",
      "\n",
      " Enter second Number : 11\n",
      "5.0 * 11.0 = 55.0\n",
      "\n",
      "Enter a Arithmetic Operation :  /\n",
      "\n",
      " Enter first Number : 55\n",
      "\n",
      " Enter second Number : 5\n",
      "55.0 / 5.0 = 11.0\n",
      "\n",
      "Enter a Arithmetic Operation :  0\n",
      "program Stopped Succesfully \n"
     ]
    }
   ],
   "source": [
    "# Calculator with 4 Basic Mathematical operations\n",
    "import operator\n",
    "\n",
    "operators = {\"+\": operator.add, \"-\": operator.sub, \"*\": operator.mul, \"/\": operator.truediv }\n",
    "\n",
    "print('''Select the Arithmetic operation: \\n\n",
    "1.Addition(+)\n",
    "2.Subtraction(-)\n",
    "3.Multiplication(*)\n",
    "4.Division(/)\n",
    "5.Stop(0)\\n''')\n",
    "\n",
    "\n",
    "while True:\n",
    "    opt = input(\"Enter a Arithmetic Operation :  \")\n",
    "    if opt == '0':\n",
    "        print(\"program Stopped Succesfully \")\n",
    "        break\n",
    "    elif opt not in ['+','-','*','/']:\n",
    "        print('Please enter a valida operator ')\n",
    "    else:\n",
    "        num_1 = float(input('\\n Enter first Number : '))\n",
    "        num_2 = float(input('\\n Enter second Number : '))\n",
    "        print('{} {} {} = {}\\n'.format(num_1,opt,num_2,operators[opt](num_1,num_2)))"
   ]
  },
  {
   "cell_type": "code",
   "execution_count": null,
   "id": "fbfc1c0f",
   "metadata": {},
   "outputs": [],
   "source": []
  }
 ],
 "metadata": {
  "kernelspec": {
   "display_name": "Python 3 (ipykernel)",
   "language": "python",
   "name": "python3"
  },
  "language_info": {
   "codemirror_mode": {
    "name": "ipython",
    "version": 3
   },
   "file_extension": ".py",
   "mimetype": "text/x-python",
   "name": "python",
   "nbconvert_exporter": "python",
   "pygments_lexer": "ipython3",
   "version": "3.10.9"
  }
 },
 "nbformat": 4,
 "nbformat_minor": 5
}
