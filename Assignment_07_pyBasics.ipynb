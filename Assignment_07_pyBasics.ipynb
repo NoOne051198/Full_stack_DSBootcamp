{
 "cells": [
  {
   "cell_type": "markdown",
   "id": "38478a86",
   "metadata": {},
   "source": [
    "# Assignment - 07 Solution"
   ]
  },
  {
   "cell_type": "markdown",
   "id": "3f7b9f4d",
   "metadata": {},
   "source": [
    "<font size =\"3\"> __1. What is the name of the feature responsible for generating Regex objects?__</font><br>\n",
    "__Ans:__ Python's `re.compile()` feature is used to generate the Regex objects."
   ]
  },
  {
   "cell_type": "code",
   "execution_count": 22,
   "id": "143ea9dd",
   "metadata": {},
   "outputs": [
    {
     "name": "stdout",
     "output_type": "stream",
     "text": [
      "<class 're.Pattern'>\n",
      "Phone number found : 991-738-7525\n"
     ]
    }
   ],
   "source": [
    "import re\n",
    "phoneNumRegex = re.compile(r'\\d\\d\\d-\\d\\d\\d-\\d\\d\\d\\d')  # make the regex object \n",
    "mo = phoneNumRegex.search('My number is 991-738-7525.') # match object <re.Match object; span=(13, 25), match='991-738-7525'>\n",
    "print(type(phoneNumRegex))\n",
    "print('Phone number found : ' + mo.group())\n"
   ]
  },
  {
   "cell_type": "markdown",
   "id": "f7db9c4f",
   "metadata": {},
   "source": [
    "<font size =\"3\"> __2. Why do raw strings often appear in Regex objects?__</font><br>\n",
    "\n",
    "\n",
    "__Ans:__ Regular expression use the bachslash character `('\\')` to indicate the special sequence of characters. (e.g. `r\"\\d\" for digit(0-9)`, `r\"\\w\" for word characters(a-z,A-Z,0-9,_)`). Row string neeeds to contain a backslash, such as for a regular expression path, you don't want to be treated as an escape character. \n"
   ]
  },
  {
   "cell_type": "markdown",
   "id": "dfbcf75b",
   "metadata": {},
   "source": [
    "<font size =\"3\"> __3. What is the return value of the search() method?__</font><br>\n",
    "__Ans:__ The return value of `re.search(pattern,string)` method is a `match object` if the pattern is observed in the string else it returns a `None`.<br>"
   ]
  },
  {
   "cell_type": "code",
   "execution_count": 23,
   "id": "0fa81897",
   "metadata": {},
   "outputs": [
    {
     "name": "stdout",
     "output_type": "stream",
     "text": [
      "Output: <re.Match object; span=(0, 1), match='I'>\n",
      "Output: None\n"
     ]
    }
   ],
   "source": [
    "# Example\n",
    "import re\n",
    "match = re.search('P','Ineuron Full Stack Data Science Program', flags=re.IGNORECASE) # return the match object\n",
    "print('Output:',match)  \n",
    "match = re.search('Y','Ineuron Full Stack Data Science Program', flags=re.IGNORECASE)  # return the None\n",
    "print('Output:',match)"
   ]
  },
  {
   "cell_type": "markdown",
   "id": "698b4feb",
   "metadata": {},
   "source": [
    "<font size =\"3\"> __4. From a Match item, how do you get the actual strings that match the pattern?__</font><br>\n",
    "__Ans:__ We can extract the actual strings by using `group()` method with match objects."
   ]
  },
  {
   "cell_type": "code",
   "execution_count": 5,
   "id": "4cd473bb",
   "metadata": {},
   "outputs": [
    {
     "name": "stdout",
     "output_type": "stream",
     "text": [
      "Output: inspire\n"
     ]
    }
   ],
   "source": [
    "# Example\n",
    "import re\n",
    "s = \"If your actions inspire others to dream more, learn more, do more and become more, you are a leader.\"\n",
    "match = re.search('inspire',s, flags=re.IGNORECASE)\n",
    "print('Output:',match.group())  # to extract strings from the match object"
   ]
  },
  {
   "cell_type": "markdown",
   "id": "60d8b6c2",
   "metadata": {},
   "source": [
    "<font size =\"3\"> __5. In the regex which created from the `r'(\\d\\d\\d)-(\\d\\d\\d-\\d\\d\\d\\d)'`, what does group zero cover? Group 2? Group 1?__</font><br>\n",
    "__Ans:__ In the Regex `r'(\\d\\d\\d)-(\\d\\d\\d-\\d\\d\\d\\d)'` the zero group covers the entire pattern match where as the first group cover `(\\d\\d\\d)` and the second group cover `(\\d\\d\\d-\\d\\d\\d\\d`)."
   ]
  },
  {
   "cell_type": "code",
   "execution_count": 6,
   "id": "aa24d8d3",
   "metadata": {},
   "outputs": [
    {
     "name": "stdout",
     "output_type": "stream",
     "text": [
      "('415', '555-4242')\n",
      "415-555-4242\n",
      "415\n",
      "555-4242\n"
     ]
    }
   ],
   "source": [
    "# Example\n",
    "import re\n",
    "phoneNumRegex = re.compile(r'(\\d\\d\\d)-(\\d\\d\\d-\\d\\d\\d\\d)')\n",
    "mo = phoneNumRegex.search('My number is 415-555-4242.')\n",
    "print(mo.groups()) # Prints all groups in a tuple format\n",
    "print(mo.group(0)) # Always returns the fully matched string \n",
    "print(mo.group(1)) # Returns the first group\n",
    "print(mo.group(2)) # Returns the second group"
   ]
  },
  {
   "cell_type": "markdown",
   "id": "b165c60b",
   "metadata": {},
   "source": [
    "<font size =\"3\"> __6. In standard expression syntax, parentheses and intervals have distinct meanings. How can you tell a regex that you want it to fit real parentheses and periods?__</font><br>\n",
    "__Ans:__ The `\\(` and `\\)` escape characters in the raw string passed to re.compile() will match actual parenthesis characters."
   ]
  },
  {
   "cell_type": "code",
   "execution_count": 7,
   "id": "3c1d4868",
   "metadata": {},
   "outputs": [
    {
     "name": "stdout",
     "output_type": "stream",
     "text": [
      "(415) 555-4242\n"
     ]
    }
   ],
   "source": [
    "# Example \n",
    "import re\n",
    "phoneNumRegex = re.compile(r'(\\(\\d\\d\\d\\)) (\\d\\d\\d-\\d\\d\\d\\d)')\n",
    "mo = phoneNumRegex.search('My phone number is (415) 555-4242.')\n",
    "print(mo.group())"
   ]
  },
  {
   "cell_type": "markdown",
   "id": "453fc159",
   "metadata": {},
   "source": [
    "<font size =\"3\"> __7. The findall() method returns a string list or a list of string tuples. What causes it to return one of the two options?__</font><br>\n",
    "__Ans:__ If the regex pattern has no groups, a list of strings matched is returned. if the regex pattern has groups, a list of tuple of strings is returned."
   ]
  },
  {
   "cell_type": "code",
   "execution_count": 6,
   "id": "b5ed90c7",
   "metadata": {},
   "outputs": [
    {
     "name": "stdout",
     "output_type": "stream",
     "text": [
      "[('(415)', '555-4242')]\n",
      "['415-555-4242']\n"
     ]
    }
   ],
   "source": [
    "# Example Program\n",
    "import re\n",
    "phoneNumRegex = re.compile(r'(\\(\\d\\d\\d\\)) (\\d\\d\\d-\\d\\d\\d\\d)')\n",
    "mo = phoneNumRegex.findall('My phone number is (415) 555-4242.')\n",
    "print(mo) # prints list of string tuple\n",
    "\n",
    "# Example Program\n",
    "import re\n",
    "phoneNumRegex = re.compile(r'\\d{3}-\\d{3}-\\d{4}')\n",
    "mo = phoneNumRegex.findall('My number is 415-555-4242.')\n",
    "print(mo) # Prints string list"
   ]
  },
  {
   "cell_type": "markdown",
   "id": "2654e476",
   "metadata": {},
   "source": [
    "<font size =\"3\"> __8. In standard expressions, what does the `|` character mean?__</font><br>\n",
    "__Ans:__ In Standard Expressions `|` means `OR` operator."
   ]
  },
  {
   "cell_type": "markdown",
   "id": "12e7edac",
   "metadata": {},
   "source": [
    "<font size =\"3\"> __9. In regular expressions, what does the `?` character stand for?__</font><br>\n",
    "__Ans:__ In regular Expressions, `?` characters represents `zero or one match` of the preceeding group."
   ]
  },
  {
   "cell_type": "code",
   "execution_count": 8,
   "id": "93a6698d",
   "metadata": {},
   "outputs": [
    {
     "name": "stdout",
     "output_type": "stream",
     "text": [
      "<re.Match object; span=(0, 9), match='Spiderman'>\n",
      "<re.Match object; span=(0, 11), match='Spiderwoman'>\n"
     ]
    }
   ],
   "source": [
    "# Example\n",
    "import re\n",
    "match_1 = re.search(\"Spider(wo)?man\",\"Spiderman returns\")\n",
    "print(match_1)\n",
    "match_2 = re.search(\"Spider(wo)?man\",\"Spiderwoman returns\")\n",
    "print(match_2)"
   ]
  },
  {
   "cell_type": "markdown",
   "id": "2dd7c050",
   "metadata": {},
   "source": [
    "<font size =\"3\"> __10.In regular expressions, what is the difference between the `+` and `*` characters?__</font><br>\n",
    "__Ans:__ In Regular Expressions, `*` Represents Zero ore more occurances of the preceeding group, whereas` +` represents one or more occurances of the preceeding group."
   ]
  },
  {
   "cell_type": "code",
   "execution_count": 10,
   "id": "aa1a9360",
   "metadata": {},
   "outputs": [
    {
     "name": "stdout",
     "output_type": "stream",
     "text": [
      "<re.Match object; span=(0, 9), match='Spiderman'>\n",
      "None\n"
     ]
    }
   ],
   "source": [
    "# Example\n",
    "import re\n",
    "match_1 = re.search(\"Spider(wo)*man\",\"Spiderman returns\")\n",
    "print(match_1)\n",
    "match_2 = re.search(\"Spider(wo)+man\",\"Spiderman returns\")\n",
    "print(match_2)"
   ]
  },
  {
   "cell_type": "markdown",
   "id": "a078cd32",
   "metadata": {},
   "source": [
    "<font size =\"3\"> __11. What is the difference between `{4}` and `{4,5}` in regular expression?__</font><br>\n",
    "__Ans:__ `{4}` means that its preceeding group should repeat 4 times. where as `{4,5}` means that its preceeding group should repeat mininum 4 times and maximum 5 times inclusively."
   ]
  },
  {
   "cell_type": "code",
   "execution_count": 11,
   "id": "be9120fa",
   "metadata": {},
   "outputs": [
    {
     "name": "stdout",
     "output_type": "stream",
     "text": [
      "LaLaLa\n",
      "None\n"
     ]
    }
   ],
   "source": [
    "# Example\n",
    "import re\n",
    "haRegex = re.compile(r'(La){3}')\n",
    "mo1 = haRegex.search('LaLaLa')\n",
    "mo2 = haRegex.search('La')\n",
    "print(mo1.group())\n",
    "print(mo2)"
   ]
  },
  {
   "cell_type": "markdown",
   "id": "a3250cc0",
   "metadata": {},
   "source": [
    "<font size =\"3\"> __12. What do you mean by the `\\d`, `\\w`, and `\\s` shorthand character classes signify in regular expressions?\n",
    "    `\\d`, `\\w` and `\\s` are special sequences in regular expresssions in python:__</font><br>\n",
    "\n",
    "__Ans:__ \n",
    "__1.__ `\\w` – Matches a word character equivalent to `[a-zA-Z0-9_]` <br>\n",
    "__2.__ `\\d` – Matches digit character equivalent to `[0-9]` <br>\n",
    "__3.__ `\\s` – Matches whitespace character `(space, tab, newline, etc.)`"
   ]
  },
  {
   "cell_type": "markdown",
   "id": "c207bfcf",
   "metadata": {},
   "source": [
    "<font size =\"3\"> __13. What do means by `\\D`, `\\W`, and `\\S` shorthand character classes signify in regular expressions?\n",
    "`\\D`, `\\W` and `\\S` are special sequences in regular expresssions in python:__</font><br>\n",
    "\n",
    "__Ans:__\n",
    "1. `\\W` – Matches any non-alphanumeric character equivalent to `[^a-zA-Z0-9_]`\n",
    "2. `\\D` – Matches any non-digit character, this is equivalent to the set class `[^0-9]`\n",
    "3. `\\S` – Matches any non-whitespace character"
   ]
  },
  {
   "cell_type": "markdown",
   "id": "7d35708c",
   "metadata": {},
   "source": [
    "<font size =\"3\"> __14. What is the difference between .*? and .*?__</font><br>\n",
    "__Ans:__ .* is a Greedy mode, which returns the longest string that meets the condition. Whereas .*? is a non greedy mode which returns the shortest string that meets the condition."
   ]
  },
  {
   "cell_type": "markdown",
   "id": "63e1da66",
   "metadata": {},
   "source": [
    "<font size =\"3\"> __15. What is the syntax for matching both numbers and lowercase letters with a character class?__</font><br>\n",
    "__Ans:__ The Synatax is Either `[a-z0-9]` or `[0-9a-z]`"
   ]
  },
  {
   "cell_type": "markdown",
   "id": "88578856",
   "metadata": {},
   "source": [
    "<font size =\"3\"> __16. What is the procedure for making a normal expression in regax case insensitive?__</font><br>\n",
    "__Ans:__ We can pass `flags=re.IGNORECASE` to make a noraml expression case insensitive."
   ]
  },
  {
   "cell_type": "markdown",
   "id": "847269d9",
   "metadata": {},
   "source": [
    "<font size =\"3\"> __17. What does the `.` character normally match? What does it match if re.DOTALL is passed as 2nd argument in re.compile()?__</font><br>\n",
    "__Ans:__ Dot `.` character matches everything in input except newline character .. By passing re.DOTALL as a flag to re.compile(), you can make the dot character match all characters, including the newline character."
   ]
  },
  {
   "cell_type": "markdown",
   "id": "3ee7fb12",
   "metadata": {},
   "source": [
    "<font size =\"3\"> __18. If numReg = re.compile(r'\\d+'), what will numRegex.sub('X', '11 drummers, 10 pipers, five rings, 4 hen') return?__</font><br>\n",
    "__Ans:__ The Ouput will be `'X drummers, X pipers, five rings, X hen'`"
   ]
  },
  {
   "cell_type": "code",
   "execution_count": 12,
   "id": "fdb96802",
   "metadata": {},
   "outputs": [
    {
     "data": {
      "text/plain": [
       "'X drummers, X pipers, five rings, X hen'"
      ]
     },
     "execution_count": 12,
     "metadata": {},
     "output_type": "execute_result"
    }
   ],
   "source": [
    "# Execution\n",
    "import re\n",
    "numReg = re.compile(r'\\d+')\n",
    "numReg.sub('X', '11 drummers, 10 pipers, five rings, 4 hen')"
   ]
  },
  {
   "cell_type": "markdown",
   "id": "8637a3a9",
   "metadata": {},
   "source": [
    "<font size =\"3\"> __19. What does passing re.VERBOSE as the 2nd argument to re.compile() allow to do?__</font><br>\n",
    "__Ans:__ `re.VERBOSE` will allow to add whitespace and comments to string passed to re.compile()"
   ]
  },
  {
   "cell_type": "code",
   "execution_count": 13,
   "id": "11cf0e05",
   "metadata": {},
   "outputs": [],
   "source": [
    "# Without Using VERBOSE\n",
    "regex_email = re.compile(r'^([a-z0-9_\\.-]+)@([0-9a-z\\.-]+)\\.([a-z\\.]{2, 6})$', re.IGNORECASE)\n",
    " \n",
    "# Using VERBOSE\n",
    "regex_email = re.compile(r\"\"\"\n",
    "                            ^([a-z0-9_\\.-]+)              # local Part like username\n",
    "                            @                             # single @ sign \n",
    "                            ([0-9a-z\\.-]+)                # Domain name like google\n",
    "                            \\.                            # single Dot .\n",
    "                            ([a-z]{2,6})$                 # Top level Domain  like com/in/org\n",
    "                         \"\"\",re.VERBOSE | re.IGNORECASE)"
   ]
  },
  {
   "cell_type": "markdown",
   "id": "92fc54aa",
   "metadata": {},
   "source": [
    "<font size =\"3\"> __20. How would you write a regex that match a number with comma for every three digits? It must match the given following:\n",
    "'42','1,234', '6,368,745'but not the following: '12,34,567' (which has only two digits between the commas) '1234' (which lacks commas)__</font><br>"
   ]
  },
  {
   "cell_type": "code",
   "execution_count": 14,
   "id": "fa04c66e",
   "metadata": {},
   "outputs": [
    {
     "name": "stdout",
     "output_type": "stream",
     "text": [
      "Output: 42 -> <re.Match object; span=(0, 2), match='42'>\n",
      "Output: 1,234 -> <re.Match object; span=(0, 5), match='1,234'>\n",
      "Output: 6,368,745 -> <re.Match object; span=(0, 9), match='6,368,745'>\n",
      "Output: 12,34,567 -> None\n",
      "Output: 1234 -> None\n"
     ]
    }
   ],
   "source": [
    "# Execution\n",
    "import re\n",
    "pattern = r'^\\d{1,3}(,\\d{3})*$'\n",
    "pagex = re.compile(pattern)\n",
    "for ele in ['42','1,234', '6,368,745','12,34,567','1234']:\n",
    "    print('Output:',ele, '->', pagex.search(ele))"
   ]
  },
  {
   "cell_type": "markdown",
   "id": "4142cdbb",
   "metadata": {},
   "source": [
    "<font size =\"3\"> __21. How would you write a regex that matches the full name of someone whose last name is Watanabe? You can assume that the first name that comes before it will always be one word that begins with a capital letter. The regex must match the following:__</font><br>\n",
    "`'Haruto Watanabe'\n",
    "'Alice Watanabe'\n",
    "'RoboCop Watanabe'`\n",
    "\n",
    "but not the following:\n",
    "\n",
    "`'haruto Watanabe' (where the first name is not capitalized)\n",
    "'Mr. Watanabe' (where the preceding word has a nonletter character)\n",
    "'Watanabe' (which has no first name)\n",
    "'Haruto watanabe' (where Watanabe is not capitalized)`\n",
    "\n",
    "__Ans:__ `pattern = r'[A-Z]{1}[a-z]*\\sWatanabe'`\n",
    "\n"
   ]
  },
  {
   "cell_type": "code",
   "execution_count": 16,
   "id": "22c43725",
   "metadata": {},
   "outputs": [
    {
     "name": "stdout",
     "output_type": "stream",
     "text": [
      "Output:  Haruto Watanabe -> <re.Match object; span=(0, 15), match='Haruto Watanabe'>\n",
      "Output:  Alice Watanabe -> <re.Match object; span=(0, 14), match='Alice Watanabe'>\n",
      "Output:  RoboCop Watanabe -> <re.Match object; span=(4, 16), match='Cop Watanabe'>\n",
      "Output:  haruto Watanabe -> None\n",
      "Output:  Mr. Watanabe -> None\n",
      "Output:  Watanabe -> None\n",
      "Output:  Haruto watanabe -> None\n"
     ]
    }
   ],
   "source": [
    "import re\n",
    "pattern = r'[A-Z]{1}[a-z]*\\sWatanabe'\n",
    "namex = re.compile(pattern)\n",
    "for name in ['Haruto Watanabe','Alice Watanabe','RoboCop Watanabe','haruto Watanabe','Mr. Watanabe','Watanabe','Haruto watanabe']:\n",
    "    print('Output: ',name,'->',namex.search(name))\n"
   ]
  },
  {
   "cell_type": "markdown",
   "id": "f50e5ff8",
   "metadata": {},
   "source": [
    "<font size =\"3\"> __22. How would you write a regex that matches a sentence where the first word is either Alice, Bob,or Carol; the second word is either eats, pets, or throws; the third word is apples, cats, or baseballs; and the sentence ends with a period? This regex should be case-insensitive. It must match the following:__</font><br>\n",
    "`'Alice eats apples.'\n",
    "'Bob pets cats.'\n",
    "'Carol throws baseballs.'\n",
    "'Alice throws Apples.'\n",
    "'BOB EATS CATS.'`\n",
    "\n",
    "but not the following:\n",
    "\n",
    "`'RoboCop eats apples.'\n",
    "'ALICE THROWS FOOTBALLS.'\n",
    "'Carol eats 7 cats.'`\n",
    "\n",
    "\n",
    "__Ans:__ `pattern = r'(Alice|Bob|Carol)\\s(eats|pets|throws)\\s(apples|cats|baseballs)\\.'`"
   ]
  },
  {
   "cell_type": "code",
   "execution_count": 17,
   "id": "1cd2d07f",
   "metadata": {},
   "outputs": [
    {
     "name": "stdout",
     "output_type": "stream",
     "text": [
      "Output:  Alice eats apples. -> <re.Match object; span=(0, 18), match='Alice eats apples.'>\n",
      "Output:  Bob pets cats. -> <re.Match object; span=(0, 14), match='Bob pets cats.'>\n",
      "Output:  Carol throws baseballs. -> <re.Match object; span=(0, 23), match='Carol throws baseballs.'>\n",
      "Output:  Alice throws Apples. -> <re.Match object; span=(0, 20), match='Alice throws Apples.'>\n",
      "Output:  BOB EATS CATS. -> <re.Match object; span=(0, 14), match='BOB EATS CATS.'>\n",
      "Output:  RoboCop eats apples. -> None\n",
      "Output:  ALICE THROWS FOOTBALLS. -> None\n",
      "Output:  Carol eats 7 cats. -> None\n"
     ]
    }
   ],
   "source": [
    "import re\n",
    "pattern = r'(Alice|Bob|Carol)\\s(eats|pets|throws)\\s(apples|cats|baseballs)\\.'\n",
    "casex = re.compile(pattern,re.IGNORECASE)\n",
    "for ele in ['Alice eats apples.','Bob pets cats.','Carol throws baseballs.','Alice throws Apples.','BOB EATS CATS.','RoboCop eats apples.'\n",
    ",'ALICE THROWS FOOTBALLS.','Carol eats 7 cats.']:\n",
    "    print('Output: ',ele,'->',casex.search(ele))"
   ]
  }
 ],
 "metadata": {
  "kernelspec": {
   "display_name": "Python 3 (ipykernel)",
   "language": "python",
   "name": "python3"
  },
  "language_info": {
   "codemirror_mode": {
    "name": "ipython",
    "version": 3
   },
   "file_extension": ".py",
   "mimetype": "text/x-python",
   "name": "python",
   "nbconvert_exporter": "python",
   "pygments_lexer": "ipython3",
   "version": "3.10.9"
  }
 },
 "nbformat": 4,
 "nbformat_minor": 5
}
