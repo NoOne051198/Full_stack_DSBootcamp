{
 "cells": [
  {
   "cell_type": "markdown",
   "id": "0ef8267a",
   "metadata": {},
   "source": [
    "# Assignment - 04 Solution"
   ]
  },
  {
   "cell_type": "markdown",
   "id": "d4d2f527",
   "metadata": {},
   "source": [
    "<font size=\"3\">__1. Write a Python Program to Find the Factorial of a Number?__ </font><br>"
   ]
  },
  {
   "cell_type": "code",
   "execution_count": 1,
   "id": "9ab86aa1",
   "metadata": {},
   "outputs": [
    {
     "name": "stdout",
     "output_type": "stream",
     "text": [
      "120 is the factorial of 5\n"
     ]
    }
   ],
   "source": [
    "# factorial of the Number\n",
    "def factorial(num):\n",
    "    fact = 1\n",
    "    for i in range(1,num + 1):\n",
    "        fact = fact * i\n",
    "    print('{} is the factorial of {}'.format(fact,num))\n",
    "        \n",
    "factorial(5) "
   ]
  },
  {
   "cell_type": "markdown",
   "id": "6b371a94",
   "metadata": {},
   "source": [
    "<font size=\"3\">__2. Write a Python Program to Display the multiplication Table?__ </font><br>"
   ]
  },
  {
   "cell_type": "code",
   "execution_count": 3,
   "id": "e4315d65",
   "metadata": {},
   "outputs": [
    {
     "name": "stdout",
     "output_type": "stream",
     "text": [
      "5 X 1 = 5\n",
      "5 X 2 = 10\n",
      "5 X 3 = 15\n",
      "5 X 4 = 20\n",
      "5 X 5 = 25\n",
      "5 X 6 = 30\n",
      "5 X 7 = 35\n",
      "5 X 8 = 40\n",
      "5 X 9 = 45\n",
      "5 X 10 = 50\n"
     ]
    }
   ],
   "source": [
    "# Display the multiplication table\n",
    "def display_table(num):\n",
    "    for i in range(1,11):\n",
    "        print(\"{} X {} = {}\".format(num,i,num*i))\n",
    "        \n",
    "display_table(5)"
   ]
  },
  {
   "cell_type": "markdown",
   "id": "ea2c503a",
   "metadata": {},
   "source": [
    "<font size=\"3\">__3. Write a Python Program to Print the Fibonacci sequence?__ </font><br>"
   ]
  },
  {
   "cell_type": "code",
   "execution_count": 30,
   "id": "6f942ea7",
   "metadata": {},
   "outputs": [
    {
     "name": "stdout",
     "output_type": "stream",
     "text": [
      "first 12 numbera term of Fabonacci sequence is :   0  1  1  2  3  5  8  13  21  34  55  89  "
     ]
    }
   ],
   "source": [
    "# print fibonacci sequence\n",
    "def print_fibonacci(num):\n",
    "    a = 0\n",
    "    b = 1\n",
    "    print(\"first {} numbera term of Fabonacci sequence is : \".format(num), end = '  ')\n",
    "    for i in range(0,num):\n",
    "        print(a ,end = '  ')\n",
    "        a,b = b,a + b\n",
    "        \n",
    "print_fibonacci(12)"
   ]
  },
  {
   "cell_type": "markdown",
   "id": "d980a1be",
   "metadata": {},
   "source": [
    "<font size=\"3\">__4. Write a Python Program to Check Armstrong Number?__ </font><br>"
   ]
  },
  {
   "cell_type": "code",
   "execution_count": 17,
   "id": "af9ec273",
   "metadata": {},
   "outputs": [
    {
     "name": "stdout",
     "output_type": "stream",
     "text": [
      "Enter a Number : 407\n",
      "407 is a Armstrong Number.\n"
     ]
    }
   ],
   "source": [
    "# Program to Check Armstrong Number\n",
    "import pyinputplus as pyip\n",
    "def check_armstrong():\n",
    "    num = pyip.inputInt(\"Enter a Number : \", min = 0)\n",
    "    cnt = len(str(num))\n",
    "    addition = 0\n",
    "    for i in list(str(num)):\n",
    "        addition = addition + int(i)**cnt\n",
    "        \n",
    "    if (addition == num):\n",
    "        print(\"{} is a Armstrong Number.\".format(num))\n",
    "    else:\n",
    "        print(\"{} is not a Armstrong Number.\".format(num))\n",
    "        \n",
    "check_armstrong()"
   ]
  },
  {
   "cell_type": "markdown",
   "id": "7e43edf8",
   "metadata": {},
   "source": [
    "<font size=\"3\">__5. Write a Python Program to Find Armstrong Number in an Interval?__ </font><br>"
   ]
  },
  {
   "cell_type": "code",
   "execution_count": 37,
   "id": "52d2657d",
   "metadata": {},
   "outputs": [
    {
     "name": "stdout",
     "output_type": "stream",
     "text": [
      "Armstrong number between 1 and 5000 are :\n",
      " \n",
      "1  2  3  4  5  6  7  8  9  153  370  371  407  1634  "
     ]
    }
   ],
   "source": [
    "# Program to find Armstrong Number in a Interval\n",
    "\n",
    "def find_armstrong(a,b):\n",
    "    print(\"Armstrong number between {} and {} are :\\n \".format(a,b))\n",
    "    for num in range(a,b+1):\n",
    "        cnt = len(str(num))\n",
    "        addition = 0\n",
    "        for i in list(str(num)):\n",
    "            addition = addition + int(i)**cnt\n",
    "        \n",
    "        if (addition == num):\n",
    "            print(num,end = '  ')\n",
    "        else:\n",
    "            pass\n",
    "        \n",
    "find_armstrong(1,5000)"
   ]
  },
  {
   "cell_type": "markdown",
   "id": "0e62a195",
   "metadata": {},
   "source": [
    "<font size=\"3\">__6. Write a Python Program to Find the Sum of Natural Numbers?__ </font><br>"
   ]
  },
  {
   "cell_type": "code",
   "execution_count": 24,
   "id": "af62dc2c",
   "metadata": {},
   "outputs": [
    {
     "name": "stdout",
     "output_type": "stream",
     "text": [
      "120 is the sum of 15 initial Natural Numbers.\n"
     ]
    }
   ],
   "source": [
    "# Sum of Natural Numbers\n",
    "def sum_natural(cnt):\n",
    "    summision = 0 \n",
    "    for i in range(1,cnt+1):\n",
    "        summision = summision + i\n",
    "        \n",
    "    print('{} is the sum of {} initial Natural Numbers.'.format(summision, cnt))\n",
    "    \n",
    "sum_natural(15)"
   ]
  },
  {
   "cell_type": "code",
   "execution_count": null,
   "id": "a1815e77",
   "metadata": {},
   "outputs": [],
   "source": []
  }
 ],
 "metadata": {
  "kernelspec": {
   "display_name": "Python 3 (ipykernel)",
   "language": "python",
   "name": "python3"
  },
  "language_info": {
   "codemirror_mode": {
    "name": "ipython",
    "version": 3
   },
   "file_extension": ".py",
   "mimetype": "text/x-python",
   "name": "python",
   "nbconvert_exporter": "python",
   "pygments_lexer": "ipython3",
   "version": "3.10.9"
  }
 },
 "nbformat": 4,
 "nbformat_minor": 5
}
