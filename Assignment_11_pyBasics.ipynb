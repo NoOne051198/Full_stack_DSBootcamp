{
 "cells": [
  {
   "cell_type": "markdown",
   "id": "b65139b6",
   "metadata": {},
   "source": [
    "# Assignment - 11 Solution"
   ]
  },
  {
   "cell_type": "markdown",
   "id": "059890e6",
   "metadata": {},
   "source": [
    "<font size=\"3\">__1. Create an assert statement that throws an AssertionError if the variable spam is a negative integer.__ </font><br>\n",
    "\n"
   ]
  },
  {
   "cell_type": "code",
   "execution_count": 9,
   "id": "8d51bba1",
   "metadata": {},
   "outputs": [
    {
     "ename": "AssertionError",
     "evalue": "Variable Spam should not be a negative integer",
     "output_type": "error",
     "traceback": [
      "\u001b[1;31m---------------------------------------------------------------------------\u001b[0m",
      "\u001b[1;31mAssertionError\u001b[0m                            Traceback (most recent call last)",
      "Cell \u001b[1;32mIn[9], line 3\u001b[0m\n\u001b[0;32m      1\u001b[0m \u001b[38;5;66;03m# Example\u001b[39;00m\n\u001b[0;32m      2\u001b[0m spam \u001b[38;5;241m=\u001b[39m \u001b[38;5;241m-\u001b[39m\u001b[38;5;241m1\u001b[39m\n\u001b[1;32m----> 3\u001b[0m \u001b[38;5;28;01massert\u001b[39;00m spam \u001b[38;5;241m>\u001b[39m\u001b[38;5;241m=\u001b[39m\u001b[38;5;241m0\u001b[39m, \u001b[38;5;124m'\u001b[39m\u001b[38;5;124mVariable Spam should not be a negative integer\u001b[39m\u001b[38;5;124m'\u001b[39m\n",
      "\u001b[1;31mAssertionError\u001b[0m: Variable Spam should not be a negative integer"
     ]
    }
   ],
   "source": [
    "# Example\n",
    "spam = -1\n",
    "assert spam >=0, 'Variable Spam should not be a negative integer'"
   ]
  },
  {
   "cell_type": "markdown",
   "id": "09e82705",
   "metadata": {},
   "source": [
    "<font size=\"3\">__2. Write an assert statement that triggers an AssertionError if the variables eggs and bacon contain strings that are the same as each other, even if their cases are different (that is, 'hello' and 'hello' are considered the same, and 'goodbye' and 'GOODbye' are also considered the same).__ </font><br>"
   ]
  },
  {
   "cell_type": "code",
   "execution_count": 10,
   "id": "52ae7b5b",
   "metadata": {},
   "outputs": [
    {
     "ename": "AssertionError",
     "evalue": "Eggs and Bacon should not be the same",
     "output_type": "error",
     "traceback": [
      "\u001b[1;31m---------------------------------------------------------------------------\u001b[0m",
      "\u001b[1;31mAssertionError\u001b[0m                            Traceback (most recent call last)",
      "Cell \u001b[1;32mIn[10], line 6\u001b[0m\n\u001b[0;32m      4\u001b[0m     bacon \u001b[38;5;241m=\u001b[39m bacon\u001b[38;5;241m.\u001b[39mupper()\n\u001b[0;32m      5\u001b[0m     \u001b[38;5;28;01massert\u001b[39;00m \u001b[38;5;129;01mnot\u001b[39;00m(eggs \u001b[38;5;241m==\u001b[39m bacon), \u001b[38;5;124m'\u001b[39m\u001b[38;5;124mEggs and Bacon should not be the same\u001b[39m\u001b[38;5;124m'\u001b[39m\n\u001b[1;32m----> 6\u001b[0m \u001b[43mraise_assert_error\u001b[49m\u001b[43m(\u001b[49m\u001b[38;5;124;43m'\u001b[39;49m\u001b[38;5;124;43mineuron\u001b[39;49m\u001b[38;5;124;43m'\u001b[39;49m\u001b[43m,\u001b[49m\u001b[38;5;124;43m'\u001b[39;49m\u001b[38;5;124;43miNeuron\u001b[39;49m\u001b[38;5;124;43m'\u001b[39;49m\u001b[43m)\u001b[49m\n",
      "Cell \u001b[1;32mIn[10], line 5\u001b[0m, in \u001b[0;36mraise_assert_error\u001b[1;34m(eggs, bacon)\u001b[0m\n\u001b[0;32m      3\u001b[0m eggs \u001b[38;5;241m=\u001b[39m eggs\u001b[38;5;241m.\u001b[39mupper()\n\u001b[0;32m      4\u001b[0m bacon \u001b[38;5;241m=\u001b[39m bacon\u001b[38;5;241m.\u001b[39mupper()\n\u001b[1;32m----> 5\u001b[0m \u001b[38;5;28;01massert\u001b[39;00m \u001b[38;5;129;01mnot\u001b[39;00m(eggs \u001b[38;5;241m==\u001b[39m bacon), \u001b[38;5;124m'\u001b[39m\u001b[38;5;124mEggs and Bacon should not be the same\u001b[39m\u001b[38;5;124m'\u001b[39m\n",
      "\u001b[1;31mAssertionError\u001b[0m: Eggs and Bacon should not be the same"
     ]
    }
   ],
   "source": [
    "# Example \n",
    "def raise_assert_error(eggs,bacon):\n",
    "    eggs = eggs.upper()\n",
    "    bacon = bacon.upper()\n",
    "    assert not(eggs == bacon), 'Eggs and Bacon should not be the same'\n",
    "raise_assert_error('ineuron','iNeuron')"
   ]
  },
  {
   "cell_type": "markdown",
   "id": "c0c83827",
   "metadata": {},
   "source": [
    "<font size=\"3\">__3. Create an assert statement that throws an AssertionError every time.__ </font><br>"
   ]
  },
  {
   "cell_type": "code",
   "execution_count": 11,
   "id": "1f5b94ca",
   "metadata": {},
   "outputs": [
    {
     "ename": "AssertionError",
     "evalue": "This function always Shows Assertion Error",
     "output_type": "error",
     "traceback": [
      "\u001b[1;31m---------------------------------------------------------------------------\u001b[0m",
      "\u001b[1;31mAssertionError\u001b[0m                            Traceback (most recent call last)",
      "Cell \u001b[1;32mIn[11], line 4\u001b[0m\n\u001b[0;32m      2\u001b[0m \u001b[38;5;28;01mdef\u001b[39;00m \u001b[38;5;21malways_assert\u001b[39m():\n\u001b[0;32m      3\u001b[0m     \u001b[38;5;28;01massert\u001b[39;00m \u001b[38;5;28;01mFalse\u001b[39;00m, \u001b[38;5;124m'\u001b[39m\u001b[38;5;124mThis function always Shows Assertion Error\u001b[39m\u001b[38;5;124m'\u001b[39m\n\u001b[1;32m----> 4\u001b[0m \u001b[43malways_assert\u001b[49m\u001b[43m(\u001b[49m\u001b[43m)\u001b[49m\n",
      "Cell \u001b[1;32mIn[11], line 3\u001b[0m, in \u001b[0;36malways_assert\u001b[1;34m()\u001b[0m\n\u001b[0;32m      2\u001b[0m \u001b[38;5;28;01mdef\u001b[39;00m \u001b[38;5;21malways_assert\u001b[39m():\n\u001b[1;32m----> 3\u001b[0m     \u001b[38;5;28;01massert\u001b[39;00m \u001b[38;5;28;01mFalse\u001b[39;00m, \u001b[38;5;124m'\u001b[39m\u001b[38;5;124mThis function always Shows Assertion Error\u001b[39m\u001b[38;5;124m'\u001b[39m\n",
      "\u001b[1;31mAssertionError\u001b[0m: This function always Shows Assertion Error"
     ]
    }
   ],
   "source": [
    "# Example \n",
    "def always_assert():\n",
    "    assert False, 'This function always Shows Assertion Error'\n",
    "always_assert()"
   ]
  },
  {
   "cell_type": "markdown",
   "id": "37aff6ac",
   "metadata": {},
   "source": [
    "<font size=\"3\">__4. What are the two lines that must be present in your software in order to call logging.debug()?__ </font><br>"
   ]
  },
  {
   "cell_type": "code",
   "execution_count": 12,
   "id": "aa4f0b3f",
   "metadata": {},
   "outputs": [],
   "source": [
    "# two lines that munst present in your softwere in order to call logging.debug()\n",
    "import logging\n",
    "logging.basicConfig(filename = 'text.log',level=logging.DEBUG, format=' %(asctime)s - %(levelname)s - %(message)s')"
   ]
  },
  {
   "cell_type": "markdown",
   "id": "a2a0baa3",
   "metadata": {},
   "source": [
    "<font size=\"3\">__5. What are the two lines that your program must have in order to have logging.debug() send a logging message to a file named programLog.txt?__ </font><br>"
   ]
  },
  {
   "cell_type": "code",
   "execution_count": 8,
   "id": "b5ff4c7e",
   "metadata": {},
   "outputs": [
    {
     "name": "stdout",
     "output_type": "stream",
     "text": [
      " 2023-05-04 11:11:58,058 - DEBUG - Data Inserted Successfully\n",
      "\n",
      " 2023-05-04 11:11:58,058 - DEBUG - Connection Closed Successfully\n",
      "\n"
     ]
    }
   ],
   "source": [
    "# send a logging message and access this file to print the content \n",
    "import logging\n",
    "logging.basicConfig(filename = 'programLog.txt',level=logging.DEBUG, format=' %(asctime)s - %(levelname)s - %(message)s')\n",
    "logging.debug(\"Data Inserted Successfully\")\n",
    "logging.debug('Connection Closed Successfully')\n",
    "file = open(\"./programLog.txt\",\"r\")\n",
    "for record in file.readlines():\n",
    "    print(record)"
   ]
  },
  {
   "cell_type": "markdown",
   "id": "47106569",
   "metadata": {},
   "source": [
    "<font size=\"3\">__6. What are the five levels of logging?__ </font><br>\n",
    "\n",
    "__Ans:__ The Five levels of Logging in Python are following:<br>\n",
    "\n",
    "0. NOTSET\n",
    "1. DEBUG\n",
    "2. INFO\n",
    "3. WARNING\n",
    "4. ERROR\n",
    "5. CRITICAL\n"
   ]
  },
  {
   "cell_type": "markdown",
   "id": "aa02e3c7",
   "metadata": {},
   "source": [
    "<font size=\"3\">__7. What line of code would you add to your software to disable all logging messages?__ </font><br>\n",
    "__Ans:__ `logging.disable = True`"
   ]
  },
  {
   "cell_type": "markdown",
   "id": "65065546",
   "metadata": {},
   "source": [
    "<font size=\"3\">__8. Why is using logging messages better than using print() to display the same message?__ </font><br>\n",
    "\n",
    "__Ans:__ Logging is a built-in library within Python. which offers capabilities to log and store different levels of information throughout a program, helping developers to monitor, investigate and diagnose their program effectively. In  Post devlopment of your code, you can disable logging messages without removing the logging function, whereas you need to manually remove print() statements, which is tedious activity."
   ]
  },
  {
   "cell_type": "markdown",
   "id": "40cb6876",
   "metadata": {},
   "source": [
    "<font size=\"3\">__9 .What are the differences between the Step Over, Step In, and Step Out buttons in the debugger?__ </font><br>\n",
    "__Ans:__ The Differences between Step In, Step Over, Step Out buttons in debugger are following:\n",
    "\n",
    "`Step in` - Step In means that if there is a function call, it goes inside the function and you can see how the function is executing line by line till it returns and you go back to the next line right after the function call.<br>\n",
    "`Step Over` - Step Over means that if there is a function call, it just executes it like a black box and returns the result, but you cannot see how the function was executed.<br>\n",
    "`Step out` - Step Out means that if you have Stepped in a function and now you want to skip seeing how the rest of the function is going to eecute, you Step out and the function returns. Then, you go back to the next line, that is the line right after the function call."
   ]
  },
  {
   "cell_type": "markdown",
   "id": "b85d7246",
   "metadata": {},
   "source": [
    "<font size=\"3\">__10. After you click Continue, when will the debugger stop ?__ </font><br>\n",
    "__Ans:__ Continue execution until the current function returns. Continue execution, only stop `when a breakpoint is encountered`. "
   ]
  },
  {
   "cell_type": "markdown",
   "id": "3484c718",
   "metadata": {},
   "source": [
    "<font size=\"3\">__11. What is the concept of a breakpoint?__ </font><br>\n",
    "__Ans:__ Breakpoint is an intentional stopping or pausing place in a program, put in place for debugging purposes.  "
   ]
  },
  {
   "cell_type": "markdown",
   "id": "3dee6a02",
   "metadata": {},
   "source": []
  }
 ],
 "metadata": {
  "kernelspec": {
   "display_name": "Python 3 (ipykernel)",
   "language": "python",
   "name": "python3"
  },
  "language_info": {
   "codemirror_mode": {
    "name": "ipython",
    "version": 3
   },
   "file_extension": ".py",
   "mimetype": "text/x-python",
   "name": "python",
   "nbconvert_exporter": "python",
   "pygments_lexer": "ipython3",
   "version": "3.10.9"
  }
 },
 "nbformat": 4,
 "nbformat_minor": 5
}
