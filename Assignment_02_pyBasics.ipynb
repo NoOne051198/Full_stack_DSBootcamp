{
 "cells": [
  {
   "cell_type": "markdown",
   "id": "67df4163",
   "metadata": {},
   "source": [
    "# Assignment - 02 Solution"
   ]
  },
  {
   "cell_type": "markdown",
   "id": "72772652",
   "metadata": {},
   "source": [
    "<font size=\"3\">__1. What are the two values of the Boolean data type? How do you write them?__ </font><br>\n",
    "\n",
    "\n",
    "__Ans:__ `True` and `False` are the two values of the Boolean data type. we make first character of these words uppercase and rest of them are lowercase."
   ]
  },
  {
   "cell_type": "code",
   "execution_count": 18,
   "id": "e31e7627",
   "metadata": {},
   "outputs": [
    {
     "name": "stdout",
     "output_type": "stream",
     "text": [
      "True   data-type:  <class 'int'>\n",
      "False   data-type:  <class 'int'>\n"
     ]
    }
   ],
   "source": [
    "T=True\n",
    "F=False\n",
    "print(T,'  data-type: ',type(a))\n",
    "print(F,'  data-type: ',type(b))"
   ]
  },
  {
   "cell_type": "markdown",
   "id": "6ebc4154",
   "metadata": {},
   "source": [
    "<font size=\"3\">__2. What are the three different types of Boolean operators?__ </font><br>\n",
    "\n",
    "\n",
    "__Ans:__ Three types of Boolean operators are:<br>\n",
    "      `And`, `Or`, `Not`"
   ]
  },
  {
   "cell_type": "code",
   "execution_count": 19,
   "id": "fd28337e",
   "metadata": {},
   "outputs": [
    {
     "name": "stdout",
     "output_type": "stream",
     "text": [
      "True\n",
      "True\n",
      "False\n"
     ]
    }
   ],
   "source": [
    "a=10\n",
    "b=20\n",
    "print(a>5 and b>10) # Example of boolean and\n",
    "print(a>20 or b>10) # Example of boolean or\n",
    "print(not(a>1)) # Example of boolean not"
   ]
  },
  {
   "cell_type": "markdown",
   "id": "6c9e0b82",
   "metadata": {},
   "source": [
    "<font size=\"3\">__3. Make a list of each Boolean operator&#39;s truth tables (i.e. every possible combination of Boolean\n",
    "values for the operator and what it evaluate ).__ </font><br>\n",
    "\n",
    "__Ans:__\n",
    "Truth table of the boolean variables is:\n",
    "|    A    |   B    |    And    |  Or  | Not | \n",
    "|:--------:|:--------:|:--------:|:----:|:---:|\n",
    "|True |True|True |True|-|\n",
    "|True| False|False|True|-|\n",
    "|False| True|False|True|-|\n",
    "|False|False|False|False|-|\n",
    "|True|-|-|-|False|\n",
    "|False|-|-|-|True|"
   ]
  },
  {
   "cell_type": "markdown",
   "id": "a3d2a685",
   "metadata": {},
   "source": [
    "<font size=\"3\">__4. What are the values of the following expressions?__ </font><br>\n",
    "`(5 > 4) and (3 == 5)`<br>\n",
    "`not (5 > 4)`<br>\n",
    "`(5 > 4) or (3 == 5)`<br>\n",
    "`not ((5 > 4) or (3 == 5))`<br>\n",
    "`(True and True) and (True == False)`<br>\n",
    "`(not False) or (not True)`"
   ]
  },
  {
   "cell_type": "code",
   "execution_count": 20,
   "id": "abd94803",
   "metadata": {},
   "outputs": [
    {
     "name": "stdout",
     "output_type": "stream",
     "text": [
      "False\n",
      "False\n",
      "True\n",
      "False\n",
      "False\n",
      "True\n"
     ]
    }
   ],
   "source": [
    "print((5>4)and(3==5)) # False\n",
    "print(not(5>4)) # False\n",
    "print((5>4)or(3==5)) # True\n",
    "print(not((5>4)or(3==5))) # False\n",
    "print((True and True)and(True==False)) # False\n",
    "print((not False)or(not True)) # True"
   ]
  },
  {
   "cell_type": "markdown",
   "id": "339c836a",
   "metadata": {},
   "source": [
    "<font size=\"3\">__5. What are the six comparison operators?__ </font><br>\n",
    "\n",
    "\n",
    "__Ans:__ six comparison operators in python are: <br>\n",
    "`==`,`!=`,`>`,`<`,`<=`,`>=`"
   ]
  },
  {
   "cell_type": "markdown",
   "id": "7a2eae99",
   "metadata": {},
   "source": [
    "<font size=\"3\">__6. How do you tell the difference between the equal to and assignment operators?Describe a\n",
    "condition and when you would use one.__ </font><br>\n",
    "\n",
    "__Ans:__ `==` is the equal to operator that compares two values and evaluates to a Boolean, while `=` is that assignment operator that stores a value in a variable."
   ]
  },
  {
   "cell_type": "code",
   "execution_count": 21,
   "id": "4b5d5bd4",
   "metadata": {},
   "outputs": [
    {
     "name": "stdout",
     "output_type": "stream",
     "text": [
      "<class 'int'>\n",
      "True\n"
     ]
    }
   ],
   "source": [
    "a = 64  # assignment operation\n",
    "print(type(a))\n",
    "print(a==64) # equal to operator returns boolean data type"
   ]
  },
  {
   "cell_type": "markdown",
   "id": "0ecdf44b",
   "metadata": {},
   "source": [
    "<font size=\"3\">__7. Identify the three blocks in this code:__ </font><br>\n",
    "spam = 0 <br>\n",
    "if spam == 10: <br>\n",
    "print('eggs') <br>\n",
    "if spam > 5: <br>\n",
    "print('bacon';) <br>\n",
    "else: <br>\n",
    "print('ham') <br>\n",
    "print('spam') <br>\n",
    "print('spam')\n",
    "\n",
    "\n",
    "__Ans: Block-__ A Block is a piece of Pthon program text that is executed as a unit. The following are blocks: a moule, a function body, and a class definition. Each command typed ineractively is a block. "
   ]
  },
  {
   "cell_type": "code",
   "execution_count": 22,
   "id": "2fd4b963",
   "metadata": {},
   "outputs": [
    {
     "name": "stdout",
     "output_type": "stream",
     "text": [
      "ham\n",
      "spam\n",
      "spam\n"
     ]
    }
   ],
   "source": [
    "spam = 0  \n",
    "if spam == 10:  \n",
    "    print('eggs')  # block #1\n",
    "if spam > 5:  \n",
    "    print('bacon')  # block #2\n",
    "else:  \n",
    "    print('ham')  # block #3\n",
    "print('spam')  \n",
    "print('spam')"
   ]
  },
  {
   "cell_type": "markdown",
   "id": "61cd9069",
   "metadata": {},
   "source": [
    "<font size=\"3\">__8. Write code that prints Hello if 1 is stored in spam, prints Howdy if 2 is stored in spam, and prints\n",
    "Greetings! if anything else is stored in spam.__ </font><br>\n",
    "\n",
    "\n"
   ]
  },
  {
   "cell_type": "code",
   "execution_count": 23,
   "id": "b9cb3aee",
   "metadata": {},
   "outputs": [
    {
     "name": "stdout",
     "output_type": "stream",
     "text": [
      "Hello\n",
      "Howdy\n",
      "Greetings\n"
     ]
    }
   ],
   "source": [
    "def spamfun(spam):\n",
    "    if spam==1:\n",
    "        print('Hello')\n",
    "    elif spam==2:\n",
    "        print('Howdy')\n",
    "    else:\n",
    "        print('Greetings')\n",
    "        \n",
    "spamfun(1) \n",
    "spamfun(2)\n",
    "spamfun(3)"
   ]
  },
  {
   "cell_type": "markdown",
   "id": "e7045f4b",
   "metadata": {},
   "source": [
    "<font size=\"3\">__9.If your programme is stuck in an endless loop, what keys you’ll press?__ </font><br>\n",
    "\n",
    "\n",
    "__Ans:__ To stop the program, we will need to interrupt the loop manually by pressing `ctrl + C`"
   ]
  },
  {
   "cell_type": "markdown",
   "id": "ca6c0c6a",
   "metadata": {},
   "source": [
    "<font size=\"3\">__10. How can you tell the difference between break and continue?__ </font><br>\n",
    "\n",
    "\n",
    "__Ans:__ The `break` statement stops the entire process of the loop. `continue` statement only stops the current iteration of the loop. Break also terminates the remaining iterations. continue doesn't ternimate the next iterations; it resumes with the successive iteraions. <br>\n",
    "examples:"
   ]
  },
  {
   "cell_type": "code",
   "execution_count": 11,
   "id": "1cdce062",
   "metadata": {},
   "outputs": [
    {
     "name": "stdout",
     "output_type": "stream",
     "text": [
      "0\n",
      "1\n",
      "3\n",
      "4\n"
     ]
    }
   ],
   "source": [
    "for i in range(5): # contunue statement\n",
    "    if i == 2:\n",
    "        continue\n",
    "    print(i)\n"
   ]
  },
  {
   "cell_type": "code",
   "execution_count": 12,
   "id": "c3367fdb",
   "metadata": {},
   "outputs": [
    {
     "name": "stdout",
     "output_type": "stream",
     "text": [
      "0\n",
      "1\n"
     ]
    }
   ],
   "source": [
    "for i in range(5):  # break statement\n",
    "    if i == 2:\n",
    "        break\n",
    "    print(i)"
   ]
  },
  {
   "cell_type": "markdown",
   "id": "9f44daf4",
   "metadata": {},
   "source": [
    "<font size=\"3\">__11. In a for loop, what is the difference between `range(10)`, `range(0, 10)`, and `range(0, 10, 1)`?__ </font><br>\n",
    "\n",
    "\n",
    "__Ans:__ Output of these three functions are same but The differences are as follows:\n",
    "\n",
    "1. The `range(10)` call range from 0 to 9 (but not include 10)\n",
    "2. The `range (0,10)` explicitly tells the loop to start at 0\n",
    "3. The `range(0,10,1)` explicitly tells the loop to increase the variable by 1 on each iteration"
   ]
  },
  {
   "cell_type": "markdown",
   "id": "cb628270",
   "metadata": {},
   "source": [
    "<font size=\"3\">__12. Write a short program that prints the numbers 1 to 10 using a for loop. Then write an equivalent\n",
    "program that prints the numbers 1 to 10 using a while loop.__ </font><br>"
   ]
  },
  {
   "cell_type": "code",
   "execution_count": 27,
   "id": "af815b29",
   "metadata": {},
   "outputs": [
    {
     "name": "stdout",
     "output_type": "stream",
     "text": [
      "***** Using For Loop *****\n",
      "1, 2, 3, 4, 5, 6, 7, 8, 9, 10, \n",
      "\n",
      "***** Using While Loop *****\n",
      "1, 2, 3, 4, 5, 6, 7, 8, 9, 10, "
     ]
    }
   ],
   "source": [
    "print('*'*5,'Using For Loop','*'*5)\n",
    "for i in range(1,11):\n",
    "    print(i, end=\", \" )\n",
    "print('\\n')\n",
    "print('*'*5,'Using While Loop','*'*5) \n",
    "i=1\n",
    "while i<=10:\n",
    "    print(i, end=', ')\n",
    "    i+=1"
   ]
  },
  {
   "cell_type": "markdown",
   "id": "5a9810fa",
   "metadata": {},
   "source": [
    "<font size=\"3\">__13. If you had a function named bacon() inside a module named spam, how would you call it after\n",
    "importing spam?__ </font><br>\n",
    "\n",
    "\n",
    " __Ans:__ This function can be called by using `spam.bacon()` statement."
   ]
  },
  {
   "cell_type": "code",
   "execution_count": null,
   "id": "33581a96",
   "metadata": {},
   "outputs": [],
   "source": []
  }
 ],
 "metadata": {
  "kernelspec": {
   "display_name": "Python 3 (ipykernel)",
   "language": "python",
   "name": "python3"
  },
  "language_info": {
   "codemirror_mode": {
    "name": "ipython",
    "version": 3
   },
   "file_extension": ".py",
   "mimetype": "text/x-python",
   "name": "python",
   "nbconvert_exporter": "python",
   "pygments_lexer": "ipython3",
   "version": "3.10.9"
  }
 },
 "nbformat": 4,
 "nbformat_minor": 5
}
