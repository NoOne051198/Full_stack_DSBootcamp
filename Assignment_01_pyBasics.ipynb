{
 "cells": [
  {
   "cell_type": "markdown",
   "id": "89c3ee75",
   "metadata": {},
   "source": [
    "# Assignment - 1 Solution"
   ]
  },
  {
   "cell_type": "markdown",
   "id": "31b5d764",
   "metadata": {},
   "source": [
    "<font size=\"3\">__1. In the below elements which of them are values or an expression? eg:- values can be integer or string and expressions will be mathematical operators.__ </font><br>\n",
    "`*`, `'hello'`, `-87.8`,`-`,`/`,`+`,`6`\n",
    "\n",
    "\n",
    "__Ans:__  __Expression -__ <font size=\"2\">An Expression is a combination of operators and operands that is interpreted to produce some other values in programming languages.</font><br>\n",
    "__Operators__ - Operators are used with numeric values to perform common mathematical operations. \n",
    "\n",
    "Operators - `*`,`-`, `/`, `+` <br>\n",
    "Expression - `'hello'`, `87.8`, `6`\n"
   ]
  },
  {
   "cell_type": "markdown",
   "id": "fca3fa7f",
   "metadata": {},
   "source": [
    "<font size=\"3\">__2. What is the difference between string and variable?__ </font><br>\n",
    "\n",
    "\n",
    "__Ans:__ A variable is a store of information, and a String is a trpe of information you would store in a variable. A string is usually a words, enclosed with `double-quotes\"\"`, `single-quotes ''` or `triple-quotes ''''''`.\n",
    "\n",
    "__eg-__ x = \"Welcome to the India\" <br>\n",
    "      In this example `'x'` is the variable and `'Welcome to the India'` is string."
   ]
  },
  {
   "cell_type": "markdown",
   "id": "f85e1eb1",
   "metadata": {},
   "source": [
    "<font size=\"3\">__3. Describe three different Data Types ?__ </font><br>\n",
    "\n",
    "\n",
    "There are three types of data type in python:\n",
    "\n",
    "__1. Integer Data Type -__ They are positive or negative whole numbers with no decimal point. <br>\n",
    "__2. String Data Type -__ A string is a collection of one or more characters put in a single-quote, double-quote, or triple-quote. In python there is no character data type, a character is string of Length one. It is represented by str class. <br>\n",
    "__3. Boolean Data Type -__ The python boolean type is one of Python's built-in data types. It's used to represent the truth value of an expression."
   ]
  },
  {
   "cell_type": "code",
   "execution_count": 12,
   "id": "47d5d30e",
   "metadata": {},
   "outputs": [
    {
     "name": "stdout",
     "output_type": "stream",
     "text": [
      "Type of  55  is  <class 'int'>\n",
      "Type of  NoOne  is  <class 'str'>\n",
      "Type of  True  is  <class 'bool'>\n"
     ]
    }
   ],
   "source": [
    "# Example of these mention datatypes\n",
    "\n",
    "a = 55      # Example of Integer\n",
    "b = \"NoOne\"      # Example of String\n",
    "c = 4 > 2       # Example of Boolean \n",
    "print('Type of ',a,' is ', type(a))\n",
    "print('Type of ',b,' is ', type(b))\n",
    "print ('Type of ',c,' is ', type(c))\n"
   ]
  },
  {
   "cell_type": "markdown",
   "id": "b6a66e08",
   "metadata": {},
   "source": [
    "<font size=\"3\">__4. What is an expression made up of? What do all expressions do?__ </font><br>\n",
    "\n",
    "\n",
    "__Ans:__ An Expression is the combination of values, variable, operators and call to functions. Expression need to be evaluated. If we ask python to print an expression, the interpreter evaluates the expression and display the result. "
   ]
  },
  {
   "cell_type": "code",
   "execution_count": 3,
   "id": "fc8df33c",
   "metadata": {},
   "outputs": [
    {
     "name": "stdout",
     "output_type": "stream",
     "text": [
      "53.0\n"
     ]
    }
   ],
   "source": [
    "print(56 + 72 / 18 - 7) # Example of an Expression"
   ]
  },
  {
   "cell_type": "markdown",
   "id": "1374065e",
   "metadata": {},
   "source": [
    "<font size=\"3\">__5.This assignment statements, like spam = 10. What is the difference between an expression and a statement?__ </font><br>\n",
    "\n",
    "\n",
    "__Expression__ An Expression is the combination of values, variable, operators and call to functions. Expression need to be evaluated. When we write the expression in prompt then interpreter evaluate it and display the result.<br>\n",
    "eg: `45+78-86`   is an expression\n",
    "\n",
    "__Statement__ A statement is a unit of code that has an effect, like creating a variable or displaying a value.When we type a statement, the interpreter executes it. In general, statements don’t return values<br>\n",
    "eg: `variable declaration` and `assignment` are statements because they do not return a value"
   ]
  },
  {
   "cell_type": "code",
   "execution_count": null,
   "id": "2155af32",
   "metadata": {},
   "outputs": [],
   "source": [
    "#Example:\n",
    "4*5+20-5    # Expression\n",
    "Name = 'Tom Cruise'    # Statement\n",
    "print('Hello NoOne')    # Expression Statement"
   ]
  },
  {
   "cell_type": "markdown",
   "id": "0d4ef4f3",
   "metadata": {},
   "source": [
    "<font size=\"3\">__6. After running the following code, what does the variable bacon contain?__ </font><br>\n",
    "\n",
    "\n",
    "__Ans:__ In the first statement the value of `'becon'` assigned `22` and In the second expression `'becon + 1'` is the expression not used to update the `'becon'` value then value of the `'becon'` remains same. <br>\n",
    "If we want to update the value of `'becon'` then we have to use `'becon = becon + 1'` instead of `'becon + 1'`."
   ]
  },
  {
   "cell_type": "code",
   "execution_count": 14,
   "id": "307f19f0",
   "metadata": {},
   "outputs": [
    {
     "name": "stdout",
     "output_type": "stream",
     "text": [
      "22\n"
     ]
    }
   ],
   "source": [
    "becon = 22\n",
    "becon + 1\n",
    "print(becon)"
   ]
  },
  {
   "cell_type": "markdown",
   "id": "cd74ec3c",
   "metadata": {},
   "source": [
    "<font size=\"3\">__7. What should the values of the following two terms be?__ </font><br>\n",
    "\n",
    "\n",
    "__Ans:__ Both expressions evaluate to the string `'spamspamspam'` Where as the first expression follows `String Concatentation` and the second expression follows `String Multiplication`."
   ]
  },
  {
   "cell_type": "code",
   "execution_count": 15,
   "id": "61fdc303",
   "metadata": {},
   "outputs": [
    {
     "name": "stdout",
     "output_type": "stream",
     "text": [
      "spamspamspam\n",
      "spamspamspam\n"
     ]
    }
   ],
   "source": [
    "print('spam'+'spamspam') # string concatenation operation\n",
    "print('spam'*3) # string multiplication operation"
   ]
  },
  {
   "cell_type": "markdown",
   "id": "a1e6d8b0",
   "metadata": {},
   "source": [
    "<font size=\"3\">__8. Why is eggs a valid variable name while 100 is invalid?__ </font><br>\n",
    "\n",
    "\n",
    "__Ans:__ In python, Variable names can not start with a number. <br>\n",
    "The python rules for naming a variable are :-\n",
    "\n",
    "1. Variable name must start with a letter or the underscore character.\n",
    "2. Variable name cannot start with a number.\n",
    "3. Variable name can only contain alpha-numeric characters and underscores (A-z, 0-9, & _ ).\n",
    "4. Variable names are case-sensitive (name, Name and NAME are three different variables).\n",
    "5. The reserved words(keywords) cannot be used naming the variable."
   ]
  },
  {
   "cell_type": "code",
   "execution_count": 6,
   "id": "276a9099",
   "metadata": {},
   "outputs": [
    {
     "ename": "SyntaxError",
     "evalue": "cannot assign to literal here. Maybe you meant '==' instead of '='? (3849768086.py, line 2)",
     "output_type": "error",
     "traceback": [
      "\u001b[1;36m  Cell \u001b[1;32mIn[6], line 2\u001b[1;36m\u001b[0m\n\u001b[1;33m    100='hello'\u001b[0m\n\u001b[1;37m    ^\u001b[0m\n\u001b[1;31mSyntaxError\u001b[0m\u001b[1;31m:\u001b[0m cannot assign to literal here. Maybe you meant '==' instead of '='?\n"
     ]
    }
   ],
   "source": [
    "egg='Ineuron' \n",
    "100='hello' "
   ]
  },
  {
   "cell_type": "markdown",
   "id": "4111f1ea",
   "metadata": {},
   "source": [
    "<font size=\"3\">__9. What three functions can be used to get the integer,floating-point number,or string version of a value?__ </font><br>\n",
    "\n",
    "\n",
    "__Ans:__ The `int()`,`float()`,and `str()` functions will evaluate to the integer,floating-point number,string version of the value passed to them."
   ]
  },
  {
   "cell_type": "code",
   "execution_count": 17,
   "id": "2ce4ce4f",
   "metadata": {},
   "outputs": [
    {
     "name": "stdout",
     "output_type": "stream",
     "text": [
      "int(11.0) ->  11\n",
      "float(11) ->  11.0\n",
      "str(11) ->  11\n"
     ]
    }
   ],
   "source": [
    "# Examples of these functions\n",
    "print('int(11.0) -> ',int(11.0)) # int() converts given input to int.\n",
    "print('float(11) -> ',float(11)) # float() converts given input to float.\n",
    "print('str(11) -> ',str(11)) # str() converts given input to string."
   ]
  },
  {
   "cell_type": "markdown",
   "id": "d89dcfc4",
   "metadata": {},
   "source": [
    "<font size=\"3\">__10. Why does this expression cause an error? how can you fix it?__ </font><br>\n",
    "`'I have eaten ' + 99 + 'burritos.'`\n",
    "\n",
    "\n",
    "__Ans:__ We can not add a numeric data to the string type data. here cause of error is 99.because 99 is integer. 99 must be typecasted to a string or assign as string to fix this error. the correct ways are: <br>\n",
    "`'I have eaten ' + str(99) + 'burritos.'` <br>\n",
    "`'I have eaten ' + '99' + 'burritos.'`"
   ]
  },
  {
   "cell_type": "code",
   "execution_count": 7,
   "id": "861fe9c3",
   "metadata": {},
   "outputs": [
    {
     "name": "stdout",
     "output_type": "stream",
     "text": [
      "I have eaten 99 burritos\n",
      "I have eaten 99 burritos\n"
     ]
    }
   ],
   "source": [
    "print('I have eaten '+str(99)+' burritos')\n",
    "print('I have eaten '+'99'+' burritos')"
   ]
  }
 ],
 "metadata": {
  "kernelspec": {
   "display_name": "Python 3 (ipykernel)",
   "language": "python",
   "name": "python3"
  },
  "language_info": {
   "codemirror_mode": {
    "name": "ipython",
    "version": 3
   },
   "file_extension": ".py",
   "mimetype": "text/x-python",
   "name": "python",
   "nbconvert_exporter": "python",
   "pygments_lexer": "ipython3",
   "version": "3.10.9"
  }
 },
 "nbformat": 4,
 "nbformat_minor": 5
}
