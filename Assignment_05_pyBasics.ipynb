{
 "cells": [
  {
   "cell_type": "markdown",
   "id": "3f66b5f5",
   "metadata": {},
   "source": [
    "# Assignment - 05 Solution"
   ]
  },
  {
   "cell_type": "markdown",
   "id": "373da01b",
   "metadata": {},
   "source": [
    "<font size=\"3\">__1. What does an empty dictionary's code look like?__ </font><br>\n",
    "__Ans:__  Syntex of the empty dictionary is `d = {}` or `d = dict()`."
   ]
  },
  {
   "cell_type": "markdown",
   "id": "bcddb769",
   "metadata": {},
   "source": [
    "<font size=\"3\">__2. What is the value of dictionary value with key 'foo' and the value 42 ?__ </font><br>\n",
    "__Ans:__ We can represent it `{'foo':42}`"
   ]
  },
  {
   "cell_type": "markdown",
   "id": "66956032",
   "metadata": {},
   "source": [
    "<font size=\"3\">__3.What is the most significant distinction between a dictionary and a list?__ </font><br>\n",
    "__Ans:__ A Dictionary refers to the collection of key and value pairs, we can access value by the help of keys While A list is the collection of index and value pairs, we can access the value with the help of indexing operations. A Dictionary is represented by `{}` where as listed are represented by `[]`.\n"
   ]
  },
  {
   "cell_type": "markdown",
   "id": "3b294008",
   "metadata": {},
   "source": [
    "<font size=\"3\">__4.What happens if you try to access spam ['foo'] if spam is {'bar':100} ?__ </font><br>\n",
    "__Ans:__ we will get a keyError `KeyError: 'foo'`"
   ]
  },
  {
   "cell_type": "code",
   "execution_count": 1,
   "id": "eb8375ce",
   "metadata": {},
   "outputs": [
    {
     "ename": "KeyError",
     "evalue": "'foo'",
     "output_type": "error",
     "traceback": [
      "\u001b[1;31m---------------------------------------------------------------------------\u001b[0m",
      "\u001b[1;31mKeyError\u001b[0m                                  Traceback (most recent call last)",
      "Cell \u001b[1;32mIn[1], line 2\u001b[0m\n\u001b[0;32m      1\u001b[0m spam \u001b[38;5;241m=\u001b[39m {\u001b[38;5;124m'\u001b[39m\u001b[38;5;124mbar\u001b[39m\u001b[38;5;124m'\u001b[39m:\u001b[38;5;241m100\u001b[39m}\n\u001b[1;32m----> 2\u001b[0m \u001b[43mspam\u001b[49m\u001b[43m[\u001b[49m\u001b[38;5;124;43m'\u001b[39;49m\u001b[38;5;124;43mfoo\u001b[39;49m\u001b[38;5;124;43m'\u001b[39;49m\u001b[43m]\u001b[49m\n",
      "\u001b[1;31mKeyError\u001b[0m: 'foo'"
     ]
    }
   ],
   "source": [
    "# DEMO\n",
    "spam = {'bar':100}\n",
    "spam['foo']"
   ]
  },
  {
   "cell_type": "markdown",
   "id": "b210e69c",
   "metadata": {},
   "source": [
    "<font size=\"3\">__5. if a dictionary is stored in spam,what is the difference between the expressions 'cat' in spam and 'cat' in spam.keys() ?__ </font><br>\n",
    "__Ans:__ The operator checks whether a value exits as a key in the dictionary or not. Then there is no difference at all."
   ]
  },
  {
   "cell_type": "markdown",
   "id": "89a068da",
   "metadata": {},
   "source": [
    "<font size=\"3\">__6.if a dictionary is stored in spam,what is the difference between the expressions 'cat' in spam and 'cat' in spam.values() ?__ </font><br>\n",
    "__Ans:__ `'cat' in spam` checks whether there is a 'cat' key in the dictionary, while `'cat' in spam.values()` checks whether there is a value 'cat' for any keys present in the dictionary."
   ]
  },
  {
   "cell_type": "markdown",
   "id": "c137a9c0",
   "metadata": {},
   "source": [
    "<font size=\"3\">__7.what is a shortcut for the following code ?__ </font><br>\n",
    "`if 'color' not in spam: spam['color'] ='black'`\n",
    "\n",
    "__Ans:__ spam.setdefault('color','black')"
   ]
  },
  {
   "cell_type": "code",
   "execution_count": 7,
   "id": "15ff1be1",
   "metadata": {},
   "outputs": [
    {
     "name": "stdout",
     "output_type": "stream",
     "text": [
      "{'bar': 100, 'color': 'black'}\n"
     ]
    }
   ],
   "source": [
    "#Execution\n",
    "spam = {'bar':100}\n",
    "spam.setdefault('color','Red')\n",
    "print(spam)"
   ]
  },
  {
   "cell_type": "markdown",
   "id": "b4c4e78e",
   "metadata": {},
   "source": [
    "<font size=\"3\">__8.How do you 'pretty print' dictionary values using which modules and function ?__ </font><br>\n",
    "__Ans:__ we can pretty print a dictionary using three functions\n",
    "\n",
    "by using `pprint()` function of pprint module<br>\n",
    "Note: pprint() function doesnot prettify nested dictionaries<br>\n",
    "by using `dumps() method of json module`<br>\n",
    "by using `dumps() method of yaml module`"
   ]
  },
  {
   "cell_type": "code",
   "execution_count": 9,
   "id": "5d2ef32b",
   "metadata": {},
   "outputs": [
    {
     "name": "stdout",
     "output_type": "stream",
     "text": [
      "Printing using print() function\n",
      " [{'Name': 'Ram', 'Age': 27, 'Residence': {'Country': 'USA', 'City': 'New York'}}, {'Name': 'Shyam', 'Age': 25, 'Residence': {'Country': 'Spain', 'City': 'Madrid'}}, {'Name': 'Sita', 'Age': 26, 'Residence': {'Country': 'UK', 'City': 'England'}}, {'Name': 'Radha', 'Age': 24, 'Residence': {'Country': 'Japan', 'City': 'Osaka'}}]\n",
      "----------------------------------------------------------------------\n",
      "Printing using pprint() funciton\n",
      "[{'Age': 27,\n",
      "  'Name': 'Ram',\n",
      "  'Residence': {'City': 'New York', 'Country': 'USA'}},\n",
      " {'Age': 25,\n",
      "  'Name': 'Shyam',\n",
      "  'Residence': {'City': 'Madrid', 'Country': 'Spain'}},\n",
      " {'Age': 26, 'Name': 'Sita', 'Residence': {'City': 'England', 'Country': 'UK'}},\n",
      " {'Age': 24,\n",
      "  'Name': 'Radha',\n",
      "  'Residence': {'City': 'Osaka', 'Country': 'Japan'}}]\n",
      "----------------------------------------------------------------------\n",
      "Printing using dumps() method\n",
      " [\n",
      "    {\n",
      "        \"Name\": \"Ram\",\n",
      "        \"Age\": 27,\n",
      "        \"Residence\": {\n",
      "            \"Country\": \"USA\",\n",
      "            \"City\": \"New York\"\n",
      "        }\n",
      "    },\n",
      "    {\n",
      "        \"Name\": \"Shyam\",\n",
      "        \"Age\": 25,\n",
      "        \"Residence\": {\n",
      "            \"Country\": \"Spain\",\n",
      "            \"City\": \"Madrid\"\n",
      "        }\n",
      "    },\n",
      "    {\n",
      "        \"Name\": \"Sita\",\n",
      "        \"Age\": 26,\n",
      "        \"Residence\": {\n",
      "            \"Country\": \"UK\",\n",
      "            \"City\": \"England\"\n",
      "        }\n",
      "    },\n",
      "    {\n",
      "        \"Name\": \"Radha\",\n",
      "        \"Age\": 24,\n",
      "        \"Residence\": {\n",
      "            \"Country\": \"Japan\",\n",
      "            \"City\": \"Osaka\"\n",
      "        }\n",
      "    }\n",
      "]\n",
      "----------------------------------------------------------------------\n",
      "Printing using dump() method\n",
      " - Age: 27\n",
      "  Name: Ram\n",
      "  Residence:\n",
      "    City: New York\n",
      "    Country: USA\n",
      "- Age: 25\n",
      "  Name: Shyam\n",
      "  Residence:\n",
      "    City: Madrid\n",
      "    Country: Spain\n",
      "- Age: 26\n",
      "  Name: Sita\n",
      "  Residence:\n",
      "    City: England\n",
      "    Country: UK\n",
      "- Age: 24\n",
      "  Name: Radha\n",
      "  Residence:\n",
      "    City: Osaka\n",
      "    Country: Japan\n",
      "\n"
     ]
    }
   ],
   "source": [
    "dict_1 = [\n",
    "  {'Name': 'Ram', 'Age': 27, 'Residence': {'Country':'USA', 'City': 'New York'}},\n",
    "  {'Name': 'Shyam', 'Age': 25, 'Residence': {'Country':'Spain', 'City': 'Madrid'}},\n",
    "  {'Name': 'Sita', 'Age': 26, 'Residence': {'Country':'UK', 'City': 'England'}},\n",
    "  {'Name': 'Radha', 'Age': 24, 'Residence': {'Country':'Japan', 'City': 'Osaka'}}\n",
    "]\n",
    "\n",
    "print('Printing using print() function\\n',dict_1)\n",
    "print('-'*70)\n",
    "import pprint\n",
    "print('Printing using pprint() funciton')\n",
    "pprint.pprint(dict_1)\n",
    "print('-'*70)\n",
    "import json\n",
    "dump = json.dumps(dict_1, indent=4)\n",
    "print('Printing using dumps() method\\n', dump)\n",
    "print('-'*70)\n",
    "import yaml\n",
    "dump = yaml.dump(dict_1)\n",
    "print('Printing using dump() method\\n', dump)"
   ]
  }
 ],
 "metadata": {
  "kernelspec": {
   "display_name": "Python 3 (ipykernel)",
   "language": "python",
   "name": "python3"
  },
  "language_info": {
   "codemirror_mode": {
    "name": "ipython",
    "version": 3
   },
   "file_extension": ".py",
   "mimetype": "text/x-python",
   "name": "python",
   "nbconvert_exporter": "python",
   "pygments_lexer": "ipython3",
   "version": "3.10.9"
  }
 },
 "nbformat": 4,
 "nbformat_minor": 5
}
