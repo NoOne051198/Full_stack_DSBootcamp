{
 "cells": [
  {
   "cell_type": "markdown",
   "id": "8e4c95bd",
   "metadata": {},
   "source": [
    "# Assignment - 04 Solution"
   ]
  },
  {
   "cell_type": "markdown",
   "id": "82c2294d",
   "metadata": {},
   "source": [
    "<font size=\"3\"> __1. What exactly is `[]`?__ </font><br>\n",
    "\n",
    "\n",
    "__Ans:__ The empty list is represented by `[]`. A list that have no items."
   ]
  },
  {
   "cell_type": "markdown",
   "id": "654a92ef",
   "metadata": {},
   "source": [
    "<font size=\"3\">__2. In a list of values stored in a variable called spam, how would you assign the value 'hello' as the\n",
    "third value? (Assume [2, 4, 6, 8, 10] are in spam.)__ </font><br>\n",
    "\n",
    "\n",
    "__Ans:__ We can assign third value by spam[2] = 'hello' statement."
   ]
  },
  {
   "cell_type": "code",
   "execution_count": 8,
   "id": "5bb1f73a",
   "metadata": {},
   "outputs": [
    {
     "name": "stdout",
     "output_type": "stream",
     "text": [
      "[2, 4, 6, 8, 10]\n",
      "[2, 4, 'hello', 8, 10]\n"
     ]
    }
   ],
   "source": [
    "# Execution\n",
    "spam=[2,4,6,8,10]\n",
    "print(spam)\n",
    "spam[2]='hello' # index of list starts form zero.\n",
    "print(spam)"
   ]
  },
  {
   "cell_type": "markdown",
   "id": "fb56ee26",
   "metadata": {},
   "source": [
    "<font size=\"4\">__Let's pretend the spam includes the list ['a', 'b', 'c', 'd'] for the next three queries.__</font><br>"
   ]
  },
  {
   "cell_type": "markdown",
   "id": "12ecaeb7",
   "metadata": {},
   "source": [
    "<font size=\"3\"> __3. What is the value of spam[int(int('3' * 2) / 11)]?__ </font><br>\n",
    "\n",
    "\n",
    "__Ans:__ `'3'* 2` is the string multiplication operation, and reflect `33` as string. `int()` operation typecaste to integer value then `33 / 11` is become `3.0` floating-point number `int()` operation make it to the integer then `spam[3]` is equal to `'d'`. "
   ]
  },
  {
   "cell_type": "code",
   "execution_count": 9,
   "id": "b1896350",
   "metadata": {},
   "outputs": [
    {
     "data": {
      "text/plain": [
       "'d'"
      ]
     },
     "execution_count": 9,
     "metadata": {},
     "output_type": "execute_result"
    }
   ],
   "source": [
    "# Execution\n",
    "spam=['a','b','c','d']\n",
    "spam[int(int('3'*2)//11)] # spam[3]"
   ]
  },
  {
   "cell_type": "markdown",
   "id": "23be0a78",
   "metadata": {},
   "source": [
    "<font size=\"3\"> __4. What is the value of spam[-1]?__ </font><br>\n",
    "\n",
    "\n",
    "__Ans:__ Negative index starts from the last and `spam[-1]` means very last element in the list."
   ]
  },
  {
   "cell_type": "code",
   "execution_count": 10,
   "id": "7b43bc4c",
   "metadata": {},
   "outputs": [
    {
     "data": {
      "text/plain": [
       "'d'"
      ]
     },
     "execution_count": 10,
     "metadata": {},
     "output_type": "execute_result"
    }
   ],
   "source": [
    "# Execution\n",
    "spam[-1]  # last element "
   ]
  },
  {
   "cell_type": "markdown",
   "id": "048c9b16",
   "metadata": {},
   "source": [
    "<font size=\"3\">__5. What is the value of spam[:2]?__ </font><br>\n",
    "\n",
    "\n",
    "__Ans:__ `spam[:2]` means starting to the `2 - 1 th` index. `spam[0]` and `spam[1]` return as the output.\n"
   ]
  },
  {
   "cell_type": "code",
   "execution_count": 11,
   "id": "c49f2d40",
   "metadata": {},
   "outputs": [
    {
     "data": {
      "text/plain": [
       "['a', 'b']"
      ]
     },
     "execution_count": 11,
     "metadata": {},
     "output_type": "execute_result"
    }
   ],
   "source": [
    "# Execution\n",
    "spam[:2]  # print spam[0] and spam[1]"
   ]
  },
  {
   "cell_type": "markdown",
   "id": "fad91fa3",
   "metadata": {},
   "source": [
    "<font size=\"4\">____Let's pretend bacon has the list [3.14, 'cat', 11, 'cat', True] for the next three questions.____</font><br>"
   ]
  },
  {
   "cell_type": "markdown",
   "id": "b4482bb4",
   "metadata": {},
   "source": [
    "<font size=\"3\">__6. What is the value of bacon.index('cat')?__ </font><br>\n",
    "\n",
    "\n",
    "__Ans:__ `index()` method returns the index of the first occurence of passed item. Then In above list it first `'cat'` is present in index`1`."
   ]
  },
  {
   "cell_type": "code",
   "execution_count": 12,
   "id": "4fc875cc",
   "metadata": {},
   "outputs": [
    {
     "data": {
      "text/plain": [
       "1"
      ]
     },
     "execution_count": 12,
     "metadata": {},
     "output_type": "execute_result"
    }
   ],
   "source": [
    "# Execution\n",
    "bacon = [3.14, 'cat', 11, 'cat', True]\n",
    "bacon.index('cat')  # returns the index of first occurance of cat"
   ]
  },
  {
   "cell_type": "markdown",
   "id": "ba5c77e8",
   "metadata": {},
   "source": [
    "<font size=\"3\">__7. How does bacon.append(99) change the look of the list value in bacon?__ </font><br>\n",
    "\n",
    "__Ans:__ `append` method add the element at the last of the list. "
   ]
  },
  {
   "cell_type": "code",
   "execution_count": 13,
   "id": "2fe2e65c",
   "metadata": {},
   "outputs": [
    {
     "name": "stdout",
     "output_type": "stream",
     "text": [
      "[3.14, 'cat', 11, 'cat', True]\n",
      "[3.14, 'cat', 11, 'cat', True, 99]\n"
     ]
    }
   ],
   "source": [
    "# Execution\n",
    "\n",
    "bacon = [3.14, 'cat', 11, 'cat', True]\n",
    "print(bacon)\n",
    "bacon.append(99)  # Add the 99 to the last\n",
    "print(bacon)"
   ]
  },
  {
   "cell_type": "markdown",
   "id": "97c66c5d",
   "metadata": {},
   "source": [
    "<font size=\"3\">__8. How does bacon.remove('cat') change the look of the list in bacon?__ </font><br>\n",
    "\n",
    "\n",
    "__Ans:__ the `remove` method removes the item of first occurance from the list."
   ]
  },
  {
   "cell_type": "code",
   "execution_count": 14,
   "id": "546d7ea0",
   "metadata": {},
   "outputs": [
    {
     "name": "stdout",
     "output_type": "stream",
     "text": [
      "[3.14, 11, 'cat', True]\n"
     ]
    }
   ],
   "source": [
    "# Execution\n",
    "bacon = [3.14, 'cat', 11, 'cat', True]\n",
    "bacon.remove('cat')\n",
    "print(bacon)"
   ]
  },
  {
   "cell_type": "markdown",
   "id": "62dd05b7",
   "metadata": {},
   "source": [
    "<font size=\"3\">__9. What are the list concatenation and list replication operators?__ </font><br>\n",
    "\n",
    "\n",
    "__Ans:__ The operator for list concatenation is `+`, while the operator for replication is `*`."
   ]
  },
  {
   "cell_type": "code",
   "execution_count": 1,
   "id": "8e1d5eb9",
   "metadata": {},
   "outputs": [
    {
     "name": "stdout",
     "output_type": "stream",
     "text": [
      "['A', 'B', 'C', 'D', 'E', 1, 2, 3, 4, 5]\n",
      "[1, 2, 3, 4, 5, 1, 2, 3, 4, 5]\n"
     ]
    }
   ],
   "source": [
    "# Example\n",
    "list_1 = ['A','B','C','D','E']\n",
    "list_2 = [1,2,3,4,5]\n",
    "print(list_1 + list_2) # List Concatenation '+'\n",
    "print(list_2*2) # List Replication '*'"
   ]
  },
  {
   "cell_type": "markdown",
   "id": "36dd7d35",
   "metadata": {},
   "source": [
    "<font size=\"3\">__10. What is difference between the list methods append() and insert()?__ </font><br>\n",
    "\n",
    "__Ans:__ `append` method add the value at the last but `insert` method add the value at any desired index(If possible)."
   ]
  },
  {
   "cell_type": "code",
   "execution_count": 3,
   "id": "88edc145",
   "metadata": {},
   "outputs": [
    {
     "name": "stdout",
     "output_type": "stream",
     "text": [
      "['A', 'B', 'C', 'D', 'E', 6]\n",
      "['A', 'B', 'sudh', 'C', 'D', 'E', 6]\n"
     ]
    }
   ],
   "source": [
    "# Example\n",
    "list_1 = ['A','B','C','D','E']\n",
    "list_1.append(6)                # Add 6 at the last of the list\n",
    "print(list_1)\n",
    "list_1.insert(2,'sudh')        # Add 'sudh' at index 2\n",
    "print(list_1)"
   ]
  },
  {
   "cell_type": "markdown",
   "id": "b3a2ab95",
   "metadata": {},
   "source": [
    "<font size=\"3\">__11. What are the two methods for removing items from a list?__ </font><br>\n",
    "\n",
    "\n",
    "__Ans:__ The `del` statement and the `remove()` method are two ways to remove values from a list."
   ]
  },
  {
   "cell_type": "markdown",
   "id": "9b12fe5e",
   "metadata": {},
   "source": [
    "<font size=\"3\">__12. Describe how list values and string values are identical.__ </font><br>\n",
    "\n",
    "\n",
    "__Ans:__ Both lists and strings in python are `sequece`, Both are `iterable object`, we perform `index` and `slicers` operation with both and both supports `concatenation '+'` and  `replication '*'`  operation. "
   ]
  },
  {
   "cell_type": "markdown",
   "id": "0a0cc07c",
   "metadata": {},
   "source": [
    "<font size=\"3\">__13. What's the difference between tuples and lists?__ </font><br>\n",
    "\n",
    "\n",
    "__Ans:__ The main difference between tuple and list is that `Lists are Mutable` and `tuple are immutable`, means of that we can change the values in the list but we can not change the value in the tuple. tuples are represented using `parentheses, ()`, while lists use the `square brackets, []` "
   ]
  },
  {
   "cell_type": "markdown",
   "id": "4a88e50e",
   "metadata": {},
   "source": [
    "<font size=\"3\">__14. How do you type a tuple value that only contains the integer 42?__ </font><br>\n",
    "\n",
    "\n",
    "__Ans:__ `(42,)` After 55 ` , ` is must. otherwise python interpretor takes the value as `integer`. "
   ]
  },
  {
   "cell_type": "code",
   "execution_count": 23,
   "id": "5b67765f",
   "metadata": {},
   "outputs": [
    {
     "name": "stdout",
     "output_type": "stream",
     "text": [
      "<class 'int'>\n",
      "<class 'tuple'>\n"
     ]
    }
   ],
   "source": [
    "# Execution\n",
    "tup1=(42)\n",
    "tup2=(42,)\n",
    "print(type(tup1))\n",
    "print(type(tup2))"
   ]
  },
  {
   "cell_type": "markdown",
   "id": "bc044f57",
   "metadata": {},
   "source": [
    "<font size=\"3\">__15. How do you get a list value's tuple form? How do you get a tuple value's list form?__ </font><br>\n",
    "\n",
    "\n",
    "__Ans:__ The `tuple()` and `list()` functions, respectively are used to convert a list to tuple and vice versa."
   ]
  },
  {
   "cell_type": "markdown",
   "id": "978826bd",
   "metadata": {},
   "source": [
    "<font size=\"3\">__16. Variables that &quot;contain&quot; list values are not necessarily lists themselves. Instead, what do they\n",
    "contain?__ </font><br>\n",
    "\n",
    "__Ans:__ They contain `references to list values`."
   ]
  },
  {
   "cell_type": "markdown",
   "id": "5c8ae3c7",
   "metadata": {},
   "source": [
    "<font size=\"3\">__17. How do you distinguish between copy.copy() and copy.deepcopy()?__ </font><br>\n",
    "\n",
    "\n",
    "__Ans:__ The `copy.copy()` function will do a shallow copy, a copy of the original object is stored and only reference address is finally copied. while the `copy.deepcopy()` function will do a deep copy, the copy of the original object and the repetitive copied both are stored."
   ]
  },
  {
   "cell_type": "code",
   "execution_count": null,
   "id": "fb9c55c9",
   "metadata": {},
   "outputs": [],
   "source": []
  }
 ],
 "metadata": {
  "kernelspec": {
   "display_name": "Python 3 (ipykernel)",
   "language": "python",
   "name": "python3"
  },
  "language_info": {
   "codemirror_mode": {
    "name": "ipython",
    "version": 3
   },
   "file_extension": ".py",
   "mimetype": "text/x-python",
   "name": "python",
   "nbconvert_exporter": "python",
   "pygments_lexer": "ipython3",
   "version": "3.10.9"
  }
 },
 "nbformat": 4,
 "nbformat_minor": 5
}
