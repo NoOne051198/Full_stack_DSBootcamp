{
 "cells": [
  {
   "cell_type": "markdown",
   "id": "ff8aed6a",
   "metadata": {},
   "source": [
    "# Assignment - 06 Solution"
   ]
  },
  {
   "cell_type": "markdown",
   "id": "1f8c1ab8",
   "metadata": {},
   "source": [
    "<font size =\"3\"> __1.What are Escape characters ? and how do you use them ?__</font><br>\n",
    "__Ans:__ To insert characters that are not permitted in the string, use an escape character. An escape character is a `backslash \\` followed by the character you want to insert.\n",
    "\n",
    "__eg:__ \n",
    "__1.__ To print text in new line, we use new line character `\\n`<br>\n",
    "__2.__ To add double-quotes in string, we use `\\\"`.<br>\n",
    "__3.__ To add the tab between string, we use tab `\\t`.<br>\n"
   ]
  },
  {
   "cell_type": "markdown",
   "id": "84fb4db0",
   "metadata": {},
   "source": [
    "<font size =\"3\"> __2.What do the escape characters n and t stand for ?__</font><br>\n",
    "__Ans:__ `\\n` is a newline character that move the cursor to beginning of new line. <br> \n",
    "`\\t` is a tab that places the tab space between the words."
   ]
  },
  {
   "cell_type": "markdown",
   "id": "580bc5e5",
   "metadata": {},
   "source": [
    "<font size =\"3\"> __3.What is the way to include backslash character in a string?__</font><br>\n",
    "__Ans:__ The `\\\\` escape character will represent the backslash character `\\` in a string\n",
    "\n"
   ]
  },
  {
   "cell_type": "markdown",
   "id": "2ebf65ad",
   "metadata": {},
   "source": [
    "<font size =\"3\"> __4.The string \"Howl's Moving Castle\" is a correct value. Why isn't the single quote character in the word Howl's not escaped a problem ?__</font><br>\n",
    "__Ans:__ The string `\"Howl's Moving Castle\"` escaped the problem because it is wrapped inside double-quotes. if its wrapped inside single-quotes then we have to use escape character` \\'` to show single quote in the final output.<br>\n",
    "`'Howl\\'s Moving Castle'` -> `'Howl's Moving Castle'`"
   ]
  },
  {
   "cell_type": "code",
   "execution_count": 10,
   "id": "69cb82f9",
   "metadata": {},
   "outputs": [
    {
     "name": "stdout",
     "output_type": "stream",
     "text": [
      "Howl's Moving Castle\n"
     ]
    }
   ],
   "source": [
    "# Execution\n",
    "print('Howl\\'s Moving Castle')"
   ]
  },
  {
   "cell_type": "markdown",
   "id": "95d608ad",
   "metadata": {},
   "source": [
    "<font size =\"3\"> __5.How do you write a string of newlines if you don't want to use the n character?__</font><br>\n",
    "__Ans:__ Multiline string `'''String'''` allow you to use newlines in string without using `\\n` escape character also to use tab in string without using `\\t` tab character."
   ]
  },
  {
   "cell_type": "code",
   "execution_count": 9,
   "id": "7ef7a620",
   "metadata": {},
   "outputs": [
    {
     "name": "stdout",
     "output_type": "stream",
     "text": [
      "We are not victims of our situation.\n",
      "We are the architects of it\n",
      "                         --> Simon sinek\n"
     ]
    }
   ],
   "source": [
    "# Example\n",
    "a = '''We are not victims of our situation.\n",
    "We are the architects of it\n",
    "                         --> Simon sinek'''\n",
    "print(a)"
   ]
  },
  {
   "cell_type": "markdown",
   "id": "5add77d4",
   "metadata": {},
   "source": [
    "<font size =\"3\"> __6.What are the values of the given expressions ?__</font><br>\n",
    "`'Hello, world!'[1]`<br>\n",
    "`'Hello, world!'[0:5]`<br>\n",
    "`'Hello, world!'[:5]`<br>\n",
    "`'Hello, world!'[3:]`\n",
    "\n",
    "__Ans:__ The values for the given expressions are: <br>`'Hello, world!'[1]` -> `'e'`<br> `'Hello, world!'[0:5]` ->` 'Hello'`<br> `'Hello, world!'[:5]` -> `'Hello'` <br>`'Hello, world!'[3:]` -> `'lo, world!'`"
   ]
  },
  {
   "cell_type": "code",
   "execution_count": 8,
   "id": "50e8b211",
   "metadata": {},
   "outputs": [
    {
     "name": "stdout",
     "output_type": "stream",
     "text": [
      "e\n",
      "Hello\n",
      "Hello\n",
      "lo, world!\n"
     ]
    }
   ],
   "source": [
    "# Execution\n",
    "print('Hello, world!'[1]) # 'e'\n",
    "print('Hello, world!'[0:5]) # 'Hello'\n",
    "print('Hello, world!'[:5]) # 'Hello'\n",
    "print('Hello, world!'[3:]) # 'lo, world!'"
   ]
  },
  {
   "cell_type": "markdown",
   "id": "aa79ef02",
   "metadata": {},
   "source": [
    "<font size =\"3\"> __7.What are the values of the following expressions ?__</font><br>\n",
    "`'Hello'.upper()`<br>\n",
    "`'Hello'.upper().isupper()`<br>\n",
    "`'Hello'.upper().lower()`\n",
    "\n",
    "__Ans:__ The values for the given expressions are:<br>\n",
    "`'Hello'.upper()` -> `'HELLO'`<br>\n",
    "`'Hello'.upper().isupper()` -> `True`<br>\n",
    "`'Hello'.upper().lower()` -> `'hello'`"
   ]
  },
  {
   "cell_type": "code",
   "execution_count": 7,
   "id": "c7058638",
   "metadata": {},
   "outputs": [
    {
     "name": "stdout",
     "output_type": "stream",
     "text": [
      "HELLO\n",
      "True\n",
      "hello\n"
     ]
    }
   ],
   "source": [
    "# Execution\n",
    "print('Hello'.upper()) #-> 'HELLO'\n",
    "print('Hello'.upper().isupper()) #-> True\n",
    "print('Hello'.upper().lower()) #-> 'hello'"
   ]
  },
  {
   "cell_type": "markdown",
   "id": "b85a40f4",
   "metadata": {},
   "source": [
    "<font size =\"3\"> __8.What are the values of the following expressions ?__</font><br>\n",
    "`'Remember, remember, the fifith of July.'.split()`<br>\n",
    "`'-'.join('There can only one'.split())`\n",
    "\n",
    "\n",
    "__Ans:__ The values for the given expressions are:<br>\n",
    "`'Remember, remember, the fifith of July.'.split()` -> `['Remember,', 'remember,', 'the', 'fifith', 'of', 'July.']` <br>\n",
    "`'-'.join('There can only one'.split())` -> `'There-can-only-one'`"
   ]
  },
  {
   "cell_type": "code",
   "execution_count": 6,
   "id": "3247be15",
   "metadata": {},
   "outputs": [
    {
     "name": "stdout",
     "output_type": "stream",
     "text": [
      "['Remember,', 'remember,', 'the', 'fifith', 'of', 'July.']\n",
      "There-can-only-one\n"
     ]
    }
   ],
   "source": [
    "# Execution\n",
    "print('Remember, remember, the fifith of July.'.split())\n",
    "print('-'.join('There can only one'.split()))"
   ]
  },
  {
   "cell_type": "markdown",
   "id": "fc3cf15d",
   "metadata": {},
   "source": [
    "<font size =\"3\"> __9.What are the methods for right-justifying, left-justifying and centering a string ?__</font><br>\n",
    "\n",
    "\n",
    "__Ans:__ The `rjust()`,`ljust()`,`center()` string methods, respectively"
   ]
  },
  {
   "cell_type": "code",
   "execution_count": 5,
   "id": "29d139f1",
   "metadata": {},
   "outputs": [
    {
     "name": "stdout",
     "output_type": "stream",
     "text": [
      "                                                                                  This is my country\n",
      "This is my country\n",
      "                                         This is my country                                         \n"
     ]
    }
   ],
   "source": [
    "# Example\n",
    "a = 'This is my country'\n",
    "print(a.rjust(100))  # for right-justifying\n",
    "print(a.ljust(0))   # for left-justifying\n",
    "print(a.center(100))  # for centering"
   ]
  },
  {
   "cell_type": "markdown",
   "id": "783f2d31",
   "metadata": {},
   "source": [
    "<font size =\"3\"> __10.What is the best way to remove whitespace characters from the start or end ?__</font><br>\n",
    "\n",
    "\n",
    "__Ans:__ The `lstrip()` and `rstrip()` methods are used to remove whitesapce characters from the left and right ends of a string, respectively"
   ]
  },
  {
   "cell_type": "code",
   "execution_count": 4,
   "id": "77397ef9",
   "metadata": {},
   "outputs": [
    {
     "name": "stdout",
     "output_type": "stream",
     "text": [
      "     This is my worksheet      30\n",
      "This is my worksheet      25\n",
      "     This is my worksheet 25\n"
     ]
    }
   ],
   "source": [
    "# Example\n",
    "text = \"     This is my worksheet     \"\n",
    "print(text,len(text))\n",
    "print(text.lstrip(),len(text.lstrip()))   # remove the whitespace from the left\n",
    "print(text.rstrip(),len(text.rstrip()))    # remove the whitespace from the right"
   ]
  },
  {
   "cell_type": "code",
   "execution_count": null,
   "id": "6877737c",
   "metadata": {},
   "outputs": [],
   "source": []
  }
 ],
 "metadata": {
  "kernelspec": {
   "display_name": "Python 3 (ipykernel)",
   "language": "python",
   "name": "python3"
  },
  "language_info": {
   "codemirror_mode": {
    "name": "ipython",
    "version": 3
   },
   "file_extension": ".py",
   "mimetype": "text/x-python",
   "name": "python",
   "nbconvert_exporter": "python",
   "pygments_lexer": "ipython3",
   "version": "3.10.9"
  }
 },
 "nbformat": 4,
 "nbformat_minor": 5
}
