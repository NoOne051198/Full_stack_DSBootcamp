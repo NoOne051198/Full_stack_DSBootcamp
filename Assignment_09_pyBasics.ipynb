{
 "cells": [
  {
   "cell_type": "markdown",
   "id": "c4f1de2b",
   "metadata": {},
   "source": [
    "# Assignment - 09 Solution"
   ]
  },
  {
   "cell_type": "markdown",
   "id": "73908a4c",
   "metadata": {},
   "source": [
    "<font size=\"3\">__1.To what does a relative path refer ?__ </font><br>\n",
    "\n",
    "__Ans:__ A relative path is the path that describes the location of a directory relative to the entry point where you run the Python Script.<br>\n",
    "For example: if Absolute path to a file called stuff.txt is: C:/users/admin/docs/stuff.txt If my PWD is C:/users/admin/ , then the relative path to stuff.txt would be: docs/stuff.txt\n",
    "`Note: PWD + relative path = absolute path`"
   ]
  },
  {
   "cell_type": "markdown",
   "id": "52649637",
   "metadata": {},
   "source": [
    "<font size=\"3\">__2.Where does an absolute path start with your Operating System ?__ </font><br>\n",
    "__Ans:__ Absolute path will begin at the home directory of your computer and will end with the file or directory that you wish to access.\n",
    "generally In Windows based systems, absolute path starts with `C:` and In Linux based systems, the absolute path starts with `/`."
   ]
  },
  {
   "cell_type": "markdown",
   "id": "126c828d",
   "metadata": {},
   "source": [
    "<font size=\"3\">__3.What does the functions os.getcwd() and os.chdir() do ?__ </font><br>\n",
    "\n",
    "__Ans:__ `os.getcwd()` returns the absolute path of the current working directory, where you run the Python script. getcwd stands for 'get current working directory'.<br>\n",
    "`os.chdir()` changes the current working directory to a specified path instance. it does not return any value. This descriptor path must refer to the open directory, not to an open file."
   ]
  },
  {
   "cell_type": "code",
   "execution_count": null,
   "id": "889ad67a",
   "metadata": {},
   "outputs": [],
   "source": [
    "# Example\n",
    "import os\n",
    "print(os.getcwd()) # Prints the current Working Directory\n",
    "path = r'C:\\Users\\vishnu.adepu\\Documents'\n",
    "os.chdir(path) # change the path of current working Directory\n",
    "print(os.getcwd())"
   ]
  },
  {
   "cell_type": "markdown",
   "id": "86a18eac",
   "metadata": {},
   "source": [
    "<font size=\"3\">__4.What are . and .. folders ?__ </font><br>\n",
    "\n",
    "__Ans:__ The `.` is the current directory, while `..` represent the parent directory. It makes things quicker at the command line as well so you don't need to type out full paths.<br> \n",
    "__eg:__   if the below path is my absolute path:<br> `C:\\Users\\vishnu\\Documents\\iNeuron-Assignments\\Python Basic Assignment`<br> Then `.` represents the path `C:\\Users\\vishnu\\Documents\\iNeuron-Assignments\\Python Basic Assignment`<br> Where as `..` represents the path `C:\\Users\\vishnu\\Documents\\iNeuron-Assignments`\n"
   ]
  },
  {
   "cell_type": "markdown",
   "id": "aae76099",
   "metadata": {},
   "source": [
    "<font size=\"3\">__5.In C:\\bacon\\eggs\\spam.txt which part is the dir name and which part is the base name ?__ </font><br>\n",
    "\n",
    "__Ans:__ In this path, The dir name is `C:\\bacon\\eggs` and The Base name is `spam.txt`."
   ]
  },
  {
   "cell_type": "markdown",
   "id": "46881adc",
   "metadata": {},
   "source": [
    "<font size=\"3\">__6.What are the three mode arguments that can be passed to the open() function ?__ </font><br>\n",
    "\n",
    "__Ans:__ In Python, we can access any file with `open()` function. Syntax of the function is `open(filename, mode)`.\n",
    "In mode we can use different arguments three frequently used arguments are:<br>\n",
    " `'r' - for read only mode`<br>\n",
    " `'w' - for write only mode`<br>\n",
    " `'a' - for append mode`"
   ]
  },
  {
   "cell_type": "markdown",
   "id": "22f824b7",
   "metadata": {},
   "source": [
    "<font size=\"3\">__7.What happens if an existing file is opened in write mode ?__ </font><br>\n",
    "\n",
    "__Ans:__  Using this mode will overwrite any existing content in a file. If the given file does not exist, a new one will be created."
   ]
  },
  {
   "cell_type": "markdown",
   "id": "c2bf087d",
   "metadata": {},
   "source": [
    "<font size=\"3\">__8.How do you tell the difference between read() and readlines() ?__ </font><br>\n",
    "\n",
    "__Ans:__ The `read()` function read whole file at once and print the content of whole file while `readline()` function reads the file line by line and print the content of first line then second line and so on, there is a another function `readlines()` while read the file line by line and print the list of content of each line."
   ]
  },
  {
   "cell_type": "markdown",
   "id": "8ed7c837",
   "metadata": {},
   "source": [
    "<font size=\"3\">__9.What data structure does a shelf value resemble ?__ </font><br>\n",
    "\n",
    "__Ans:__ a Dictionary value, it has keys and values, along with keys() and values() methods that woek similarly to the dictionary methods of the same names."
   ]
  }
 ],
 "metadata": {
  "kernelspec": {
   "display_name": "Python 3 (ipykernel)",
   "language": "python",
   "name": "python3"
  },
  "language_info": {
   "codemirror_mode": {
    "name": "ipython",
    "version": 3
   },
   "file_extension": ".py",
   "mimetype": "text/x-python",
   "name": "python",
   "nbconvert_exporter": "python",
   "pygments_lexer": "ipython3",
   "version": "3.10.9"
  }
 },
 "nbformat": 4,
 "nbformat_minor": 5
}
